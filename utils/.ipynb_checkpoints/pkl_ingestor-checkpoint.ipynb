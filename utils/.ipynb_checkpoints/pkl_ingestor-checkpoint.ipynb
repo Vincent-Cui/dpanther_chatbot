{
 "cells": [
  {
   "cell_type": "code",
   "execution_count": 1,
   "id": "9856a0e9",
   "metadata": {},
   "outputs": [],
   "source": [
    "from langchain.document_loaders import PyPDFLoader\n",
    "import langchain\n",
    "from langchain.document_loaders import ReadTheDocsLoader, TextLoader, DirectoryLoader\n",
    "from langchain.text_splitter import RecursiveCharacterTextSplitter"
   ]
  },
  {
   "cell_type": "code",
   "execution_count": 2,
   "id": "3a9e5dbe",
   "metadata": {},
   "outputs": [],
   "source": [
    "from langchain.embeddings import OpenAIEmbeddings\n",
    "from langchain.vectorstores.faiss import FAISS\n",
    "from langchain.chains import ConversationalRetrievalChain\n",
    "from langchain.chat_models import ChatOpenAI\n",
    "from langchain.llms import OpenAI"
   ]
  },
  {
   "cell_type": "code",
   "execution_count": 3,
   "id": "0e3fc6d3",
   "metadata": {},
   "outputs": [],
   "source": [
    "import pickle"
   ]
  },
  {
   "cell_type": "code",
   "execution_count": 6,
   "id": "c8163465",
   "metadata": {},
   "outputs": [],
   "source": [
    "## function to ingest pdf, txt or directory of pdfs into the vector database\n",
    "def ingest_pdfs(location, dbname):\n",
    "    \"\"\"Get documents from web pages.\"\"\"\n",
    "    loader = PyPDFLoader('./dataset/'+location)\n",
    "    raw_documents = loader.load()\n",
    "    text_splitter = RecursiveCharacterTextSplitter(\n",
    "        chunk_size=1000,\n",
    "        chunk_overlap=200,\n",
    "    )\n",
    "    documents = text_splitter.split_documents(raw_documents)\n",
    "    embeddings = OpenAIEmbeddings()\n",
    "    vectorstore = FAISS.from_documents(documents, embeddings)\n",
    "\n",
    "    # Save vectorstore\n",
    "    with open(\"./vs_test/\" + dbname + \".pkl\", \"wb\") as f:\n",
    "        pickle.dump(vectorstore, f)\n",
    "        \n",
    "def ingest_txts(location, dbname):\n",
    "    \"\"\"Get documents from web pages.\"\"\"\n",
    "    loader = TextLoader('./dataset/'+location)\n",
    "    raw_documents = loader.load()\n",
    "    text_splitter = RecursiveCharacterTextSplitter(\n",
    "        chunk_size=1000,\n",
    "        chunk_overlap=200,\n",
    "    )\n",
    "    documents = text_splitter.split_documents(raw_documents)\n",
    "    embeddings = OpenAIEmbeddings()\n",
    "    vectorstore = FAISS.from_documents(documents, embeddings)\n",
    "\n",
    "    # Save vectorstore\n",
    "    with open(\"./vs_test/\" + dbname + \".pkl\", \"wb\") as f:\n",
    "        pickle.dump(vectorstore, f)\n",
    "\n",
    "def ingest_dir(location, dbname):\n",
    "    \"\"\"Get documents from folders.\"\"\"\n",
    "    loader = DirectoryLoader('./dataset/'+location, glob='**/*.pdf', show_progress=True, loader_cls=PyPDFLoader)\n",
    "    raw_documents = loader.load()\n",
    "    text_splitter = RecursiveCharacterTextSplitter(\n",
    "        chunk_size=1000,\n",
    "        chunk_overlap=200,\n",
    "    )\n",
    "    documents = text_splitter.split_documents(raw_documents)\n",
    "    for i in range(len(documents)):\n",
    "        documents[i].page_content = \"unique_file_name:\" + documents[i].metadata['source']+\"\\n\\n\" +documents[i].page_content\n",
    "    # print(documents[1])\n",
    "    embeddings = OpenAIEmbeddings()\n",
    "    vectorstore = FAISS.from_documents(documents, embeddings)\n",
    "\n",
    "    # Save vectorstore\n",
    "    with open(\"./vs/\" + dbname + \".pkl\", \"wb\") as f:\n",
    "        pickle.dump(vectorstore, f)"
   ]
  },
  {
   "cell_type": "code",
   "execution_count": 7,
   "id": "c6b0264f",
   "metadata": {},
   "outputs": [],
   "source": [
    "## ingest the pdf file into the vector store\n",
    "ingest_pdfs('FI21052700_00002_19270122.pdf', 'pdf')"
   ]
  },
  {
   "cell_type": "code",
   "execution_count": 8,
   "id": "e81ee0f2",
   "metadata": {},
   "outputs": [],
   "source": [
    "## read the vector db to memory\n",
    "with open(\"./vs_test/pdf.pkl\", \"rb\") as f:\n",
    "        global pdf_vs\n",
    "        pdf_vs = pickle.load(f)"
   ]
  },
  {
   "cell_type": "code",
   "execution_count": 15,
   "id": "32629c01",
   "metadata": {},
   "outputs": [
    {
     "data": {
      "text/plain": [
       "<coroutine object VectorStore.asimilarity_search at 0x000001C7ACB2EE40>"
      ]
     },
     "execution_count": 15,
     "metadata": {},
     "output_type": "execute_result"
    }
   ],
   "source": [
    "## search a question\n",
    "pdf_vs.similarity_search_with_score('what does miami beach garden theatre perform',5)"
   ]
  },
  {
   "cell_type": "code",
   "execution_count": 10,
   "id": "f93be5fe",
   "metadata": {},
   "outputs": [
    {
     "data": {
      "text/plain": [
       "[(Document(page_content='General  Admission  50c Cents\\nMusic  by Frank  Novak*s  Chicago-Miami\\nOrchestra\\nLADIES  FREE\\nMONDAY,  WEDNESDAY  and FRIDAY  NIGHTS\\nHow to get there —From Miami  follow  the Dixie to 115th St. and \\nturn left at big sign. Busses  leave Central  school,  N. E. Third  \\nstreet,  direct  to track.\\nFrom Miami  Beach:\\nDe LUXE  BUS SERVICE  direct  to the track. Busses  leave cor\\xad\\nner of Fifth street and Washington  avenue  at 7:10 p. m.; Wash \\xad\\nington  avenue  and Espanola  way at 7:20.\\nFREE  PARKINGPhone  Miami  Beach  2119 for Reservations\\nMIAMI  BEACH  GARDEN  THEATRE\\nAlton Road at 41st Street  \\nNear Nautilus  Hotel\\nDrive  from  Miami  over either  causeway,  turn left at Alton  Rd.\\n50 cents to $1.65  Seats on sale Phone M. B. 2119\\nCurtain  at 8:30 P. M.\\n500 SEATS  AT FIFTY  CENTS\\nWILD TO MODERN\\nwild nature  to a modern  city \\ndependable  Electric  service.The span from\\nIs bridged  by\\nPeople,  business,  trade and industry  naturally  gravi \\xad\\ntate to the Modern  City and community  having', metadata={'source': './dataset/FI21052700_00002_19270122.pdf', 'page': 0}),\n",
       "  0.3343385),\n",
       " (Document(page_content='exclusive  hotel located near the \\nGulf Refining  company  at Miami  \\nBeach,  and would  soon open up the \\nroof garden  for the season.\\n“I shall soon open up the roof \\ngarden, ” said Greeby,  “and it will \\nbe very exclusive.  There will be \\nno cover charge. ”\\n“There ’s no cover on it anyway, ” \\nlaughed  Geraldine  as she did a \\nBrody  out of the window.\\n“Everyone  must have an invita \\xad\\ntion, ” continued  Greeby,  ignoring  \\ninterruption,  “and I hereby  invite  \\neverybody  to attend. Those  who do \\nnot desire  to dance may sit on the \\nsidelines  and drop concrete  blocks  \\nshould  them government  or county  \\nmen come around  again.  The motto  \\nwill be a square deal to all, and \\neveryone  with bulging  hips must  \\nsubmit  to a search. Whatever  is \\ncollected  will be poured into one \\ncommon  pool, and for 50 cents each  \\nguest  may have a glass. ”\\n“I bet you can sell plenty of \\ncaskets  over there, ” floated  in the \\nvoice of Little  Geraldine,  and Ham \\xad', metadata={'source': './dataset/FI21052700_00002_19270122.pdf', 'page': 1}),\n",
       "  0.35363045),\n",
       " (Document(page_content='present  good deportment  is main \\xad\\ntained by Hialeah  visitors.\\nmen like Jimmystuff,\\ncallskATTENTION\\nArchitects,  Artists,  Engineers  \\nWe have any article you need, in\\xad\\ncluding  a Modern  Blue Print Plant-  \\nPhotostat Dept... Picture Framing  \\nT Square & Triangle  Co. \\n141 N. E. 2nd Ave.\\nPhone 8751\\nBroadway  Comes  to Miami  Beach  \\nTonight\\nat the\\nMiami  Beach  Garden  Theater\\nwith And\\nBright and Glenn Curtis at \\nwork developing  subdivisions,  \\nmanufacturing  sections and  \\nbeauty spots, it won ’t be many  \\nseasons  before the game little  \\ncitv reaches  its place in the sun. \\n! ! !\\nA. K. Ewing  is the director  of \\npublic safety. Under him come  \\nLieut. Wm. A. Ennis, heading  \\nthe police department;  Ser\\xad\\ngeants  Woods,  Yoakum  and Mc\\xad\\nCamey,  12 patrolmen  and six \\nmotorcycle  men. all in uniforms  \\nof grey.developing  subdivisions,\\nPidureFiatmnd\\n( RICH  ARD  B.HOIT ) \\nNOI  HALCYON  ARCAOE-ROOM40  v \\n477 S.W.8  ST \\nQUICK  SERVICE : PARKING  SPACEWhen\\nNew York Stars Present', metadata={'source': './dataset/FI21052700_00002_19270122.pdf', 'page': 0}),\n",
       "  0.35725558),\n",
       " (Document(page_content='161 Washington  Avenue,  Corner  Second  Street\\nMIAMI  BEACH\\nWe Are Again Serving  Those Delicious  Steaks,  Chops and \\nChicken,  and Specializing,  as Usual,  with Our \\n. Fresh  Sea Foods\\n“THE ORIGINAL  LITTLE  JOE ”\\nDancing\\nicture  runinTonight  And Every  Night\\n9 P. M. Till Closing\\nTHE  SIXTY  CLUB,  Inc,\\n1100 15th St., Corner  Lenox  Ave.\\nMIAMI  BEACHDinner  Dance  Every  \\nEvening\\nGarber ’s Orchestra  \\n7 to 8:45\\nDinner,  $2.00  \\nNo Convert  Charge\\nWednesday  and Saturday  Afternoon  Tea Dansant\\nGarber ’s Orchestra —4:30 till 6 \\nService  a la carte\\nSunday  Evening  Dinner  Concert  \\nGARBER ’S ORCHESTRA,  7 to 9 \\nDinner,  $2.50, No Couvert  Charge\\nCoral  Gables  Golf and Country  Club\\nPhone C. G. 66\\nANTILLA\\nHOTEL\\nJo Astoria ’s\\nAll Soloist Orchestra\\nFEATURES  THE  \\nNightly  Dinner Dance  \\n7 till 11\\nDinner,  $1.50\\nPhone Reservations  C. G. 200\\nSunday  Evening  Dinner  Concert\\nAstoria ’s Orchestra —7 TUI 9 \\nDinner,  $1.59 —N» Couvert  Charge\\nVenetian  Casino  and Pool\\n4 Till 6', metadata={'source': './dataset/FI21052700_00002_19270122.pdf', 'page': 5}),\n",
       "  0.3586139),\n",
       " (Document(page_content='MIAMI\\nBEACH\\nComfortable  \\nRestaurant\\nRoyal  Cafe\\nKitchen  open for inspection  at all \\ntimes\\nPeter Galatis,  N. P. Harris\\n113 N. E. First Avenue,  Opposite  \\nPost Office\\n(r\\n“WHERE  FOLKS  REALLY  \\nLIVE ”\\nA gentleman ’s house that \\nis a home is on the market  \\nfor the reason  that the owner  \\nspends  but little time here.\\nThe setting  is without  par\\xad\\nallel in all Miami  Beach,  be\\xad\\ning in Flamingo  Terrace  on \\nIndian Creek just north of \\nPancoast  Lake. The water \\xad\\nway provides  protected  an\\xad\\nchorage  for a boat.\\nSpacious living _ _____ _ rooms,\\nporch and lawn lend them \\xad\\nselves to hospitality.  Four  \\nsleeping  rooms, two baths,  \\nand porches  facing  east and \\nsouth are on the second  \\nfloor. A two-car  garage  with  \\ntwo servant  rooms and laun \\xad\\ndry are separated  from the \\ndwelling  by a porte-cochiere.\\nThe price is less than re\\xad\\nplacement.\\nIt will be ready for occu \\xad\\npancy in January.\\nE. Q. RODGERS  \\nRoom 5, Reid Building  \\nMiami  Beachselves to hospitality,', metadata={'source': './dataset/FI21052700_00002_19270122.pdf', 'page': 1}),\n",
       "  0.3733827)]"
      ]
     },
     "execution_count": 10,
     "metadata": {},
     "output_type": "execute_result"
    }
   ],
   "source": [
    "## search a specific phrase\n",
    "pdf_vs.similarity_search_with_score('miami beach garden theatre',5)"
   ]
  },
  {
   "cell_type": "code",
   "execution_count": 64,
   "id": "72d0d8f8",
   "metadata": {},
   "outputs": [],
   "source": [
    "## create a retriever from vector db and make sure the relavance score is larget than 0.2\n",
    "ret = pdf_vs.as_retriever(\n",
    "    search_type=\"similarity_score_threshold\",\n",
    "    search_kwargs={'score_threshold': 0.2}\n",
    ")\n",
    "## create a ConversationalRetrievalChain to query from ret\n",
    "chain = ConversationalRetrievalChain.from_llm(ChatOpenAI(model=\"gpt-4\", temperature=0.7), \n",
    "                                                  retriever=ret,\n",
    "                                                  return_source_documents=True,)"
   ]
  },
  {
   "cell_type": "code",
   "execution_count": 67,
   "id": "c011c199",
   "metadata": {},
   "outputs": [],
   "source": [
    "## try query the ConversationalRetrievalChain, it will return the answer plus the relavant documents\n",
    "chat_history = []\n",
    "query = \"miami beach garden theatre\"\n",
    "result = chain({\"question\": query, \"chat_history\": chat_history})"
   ]
  },
  {
   "cell_type": "code",
   "execution_count": 68,
   "id": "5a7b09e0",
   "metadata": {},
   "outputs": [
    {
     "data": {
      "text/plain": [
       "{'question': 'miami beach garden theatre',\n",
       " 'chat_history': [],\n",
       " 'answer': 'The Miami Beach Garden Theatre is located at Alton Road at 41st Street, near the Nautilus Hotel. You can drive from Miami over either causeway and turn left at Alton Rd. It offers 500 seats at fifty cents each. The curtain time is at 8:30 P.M. You can make reservations by calling M. B. 2119. Free parking is also available.',\n",
       " 'source_documents': [Document(page_content='General  Admission  50c Cents\\nMusic  by Frank  Novak*s  Chicago-Miami\\nOrchestra\\nLADIES  FREE\\nMONDAY,  WEDNESDAY  and FRIDAY  NIGHTS\\nHow to get there —From Miami  follow  the Dixie to 115th St. and \\nturn left at big sign. Busses  leave Central  school,  N. E. Third  \\nstreet,  direct  to track.\\nFrom Miami  Beach:\\nDe LUXE  BUS SERVICE  direct  to the track. Busses  leave cor\\xad\\nner of Fifth street and Washington  avenue  at 7:10 p. m.; Wash \\xad\\nington  avenue  and Espanola  way at 7:20.\\nFREE  PARKINGPhone  Miami  Beach  2119 for Reservations\\nMIAMI  BEACH  GARDEN  THEATRE\\nAlton Road at 41st Street  \\nNear Nautilus  Hotel\\nDrive  from  Miami  over either  causeway,  turn left at Alton  Rd.\\n50 cents to $1.65  Seats on sale Phone M. B. 2119\\nCurtain  at 8:30 P. M.\\n500 SEATS  AT FIFTY  CENTS\\nWILD TO MODERN\\nwild nature  to a modern  city \\ndependable  Electric  service.The span from\\nIs bridged  by\\nPeople,  business,  trade and industry  naturally  gravi \\xad\\ntate to the Modern  City and community  having', metadata={'source': './dataset/FI21052700_00002_19270122.pdf', 'page': 0}),\n",
       "  Document(page_content='exclusive  hotel located near the \\nGulf Refining  company  at Miami  \\nBeach,  and would  soon open up the \\nroof garden  for the season.\\n“I shall soon open up the roof \\ngarden, ” said Greeby,  “and it will \\nbe very exclusive.  There will be \\nno cover charge. ”\\n“There ’s no cover on it anyway, ” \\nlaughed  Geraldine  as she did a \\nBrody  out of the window.\\n“Everyone  must have an invita \\xad\\ntion, ” continued  Greeby,  ignoring  \\ninterruption,  “and I hereby  invite  \\neverybody  to attend. Those  who do \\nnot desire  to dance may sit on the \\nsidelines  and drop concrete  blocks  \\nshould  them government  or county  \\nmen come around  again.  The motto  \\nwill be a square deal to all, and \\neveryone  with bulging  hips must  \\nsubmit  to a search. Whatever  is \\ncollected  will be poured into one \\ncommon  pool, and for 50 cents each  \\nguest  may have a glass. ”\\n“I bet you can sell plenty of \\ncaskets  over there, ” floated  in the \\nvoice of Little  Geraldine,  and Ham \\xad', metadata={'source': './dataset/FI21052700_00002_19270122.pdf', 'page': 1}),\n",
       "  Document(page_content='present  good deportment  is main \\xad\\ntained by Hialeah  visitors.\\nmen like Jimmystuff,\\ncallskATTENTION\\nArchitects,  Artists,  Engineers  \\nWe have any article you need, in\\xad\\ncluding  a Modern  Blue Print Plant-  \\nPhotostat Dept... Picture Framing  \\nT Square & Triangle  Co. \\n141 N. E. 2nd Ave.\\nPhone 8751\\nBroadway  Comes  to Miami  Beach  \\nTonight\\nat the\\nMiami  Beach  Garden  Theater\\nwith And\\nBright and Glenn Curtis at \\nwork developing  subdivisions,  \\nmanufacturing  sections and  \\nbeauty spots, it won ’t be many  \\nseasons  before the game little  \\ncitv reaches  its place in the sun. \\n! ! !\\nA. K. Ewing  is the director  of \\npublic safety. Under him come  \\nLieut. Wm. A. Ennis, heading  \\nthe police department;  Ser\\xad\\ngeants  Woods,  Yoakum  and Mc\\xad\\nCamey,  12 patrolmen  and six \\nmotorcycle  men. all in uniforms  \\nof grey.developing  subdivisions,\\nPidureFiatmnd\\n( RICH  ARD  B.HOIT ) \\nNOI  HALCYON  ARCAOE-ROOM40  v \\n477 S.W.8  ST \\nQUICK  SERVICE : PARKING  SPACEWhen\\nNew York Stars Present', metadata={'source': './dataset/FI21052700_00002_19270122.pdf', 'page': 0}),\n",
       "  Document(page_content='161 Washington  Avenue,  Corner  Second  Street\\nMIAMI  BEACH\\nWe Are Again Serving  Those Delicious  Steaks,  Chops and \\nChicken,  and Specializing,  as Usual,  with Our \\n. Fresh  Sea Foods\\n“THE ORIGINAL  LITTLE  JOE ”\\nDancing\\nicture  runinTonight  And Every  Night\\n9 P. M. Till Closing\\nTHE  SIXTY  CLUB,  Inc,\\n1100 15th St., Corner  Lenox  Ave.\\nMIAMI  BEACHDinner  Dance  Every  \\nEvening\\nGarber ’s Orchestra  \\n7 to 8:45\\nDinner,  $2.00  \\nNo Convert  Charge\\nWednesday  and Saturday  Afternoon  Tea Dansant\\nGarber ’s Orchestra —4:30 till 6 \\nService  a la carte\\nSunday  Evening  Dinner  Concert  \\nGARBER ’S ORCHESTRA,  7 to 9 \\nDinner,  $2.50, No Couvert  Charge\\nCoral  Gables  Golf and Country  Club\\nPhone C. G. 66\\nANTILLA\\nHOTEL\\nJo Astoria ’s\\nAll Soloist Orchestra\\nFEATURES  THE  \\nNightly  Dinner Dance  \\n7 till 11\\nDinner,  $1.50\\nPhone Reservations  C. G. 200\\nSunday  Evening  Dinner  Concert\\nAstoria ’s Orchestra —7 TUI 9 \\nDinner,  $1.59 —N» Couvert  Charge\\nVenetian  Casino  and Pool\\n4 Till 6', metadata={'source': './dataset/FI21052700_00002_19270122.pdf', 'page': 5})]}"
      ]
     },
     "execution_count": 68,
     "metadata": {},
     "output_type": "execute_result"
    }
   ],
   "source": [
    "result"
   ]
  },
  {
   "cell_type": "code",
   "execution_count": 32,
   "id": "e7431bff",
   "metadata": {},
   "outputs": [
    {
     "data": {
      "text/plain": [
       "[Document(page_content='General  Admission  50c Cents\\nMusic  by Frank  Novak*s  Chicago-Miami\\nOrchestra\\nLADIES  FREE\\nMONDAY,  WEDNESDAY  and FRIDAY  NIGHTS\\nHow to get there —From Miami  follow  the Dixie to 115th St. and \\nturn left at big sign. Busses  leave Central  school,  N. E. Third  \\nstreet,  direct  to track.\\nFrom Miami  Beach:\\nDe LUXE  BUS SERVICE  direct  to the track. Busses  leave cor\\xad\\nner of Fifth street and Washington  avenue  at 7:10 p. m.; Wash \\xad\\nington  avenue  and Espanola  way at 7:20.\\nFREE  PARKINGPhone  Miami  Beach  2119 for Reservations\\nMIAMI  BEACH  GARDEN  THEATRE\\nAlton Road at 41st Street  \\nNear Nautilus  Hotel\\nDrive  from  Miami  over either  causeway,  turn left at Alton  Rd.\\n50 cents to $1.65  Seats on sale Phone M. B. 2119\\nCurtain  at 8:30 P. M.\\n500 SEATS  AT FIFTY  CENTS\\nWILD TO MODERN\\nwild nature  to a modern  city \\ndependable  Electric  service.The span from\\nIs bridged  by\\nPeople,  business,  trade and industry  naturally  gravi \\xad\\ntate to the Modern  City and community  having', metadata={'source': './dataset/FI21052700_00002_19270122.pdf', 'page': 0}),\n",
       " Document(page_content='present  good deportment  is main \\xad\\ntained by Hialeah  visitors.\\nmen like Jimmystuff,\\ncallskATTENTION\\nArchitects,  Artists,  Engineers  \\nWe have any article you need, in\\xad\\ncluding  a Modern  Blue Print Plant-  \\nPhotostat Dept... Picture Framing  \\nT Square & Triangle  Co. \\n141 N. E. 2nd Ave.\\nPhone 8751\\nBroadway  Comes  to Miami  Beach  \\nTonight\\nat the\\nMiami  Beach  Garden  Theater\\nwith And\\nBright and Glenn Curtis at \\nwork developing  subdivisions,  \\nmanufacturing  sections and  \\nbeauty spots, it won ’t be many  \\nseasons  before the game little  \\ncitv reaches  its place in the sun. \\n! ! !\\nA. K. Ewing  is the director  of \\npublic safety. Under him come  \\nLieut. Wm. A. Ennis, heading  \\nthe police department;  Ser\\xad\\ngeants  Woods,  Yoakum  and Mc\\xad\\nCamey,  12 patrolmen  and six \\nmotorcycle  men. all in uniforms  \\nof grey.developing  subdivisions,\\nPidureFiatmnd\\n( RICH  ARD  B.HOIT ) \\nNOI  HALCYON  ARCAOE-ROOM40  v \\n477 S.W.8  ST \\nQUICK  SERVICE : PARKING  SPACEWhen\\nNew York Stars Present', metadata={'source': './dataset/FI21052700_00002_19270122.pdf', 'page': 0}),\n",
       " Document(page_content='Saturday,  January  22, 1927Page Seven\\n| Round  the Town  | \\nwith Rod\\nCIVIC  THEATER  PLAYS\\nThe first three-act  play to be \\npresented  by the Miami Civic  \\ntheater  will be J. M. Barrie ’s \\n“Dear Brutus, ” which will be \\ngiven at the University  of Miami  \\non the evenings  of January  27 \\nand 28. Catherine  Hoffman,  high  \\nschool girl, protege  of Beatrice  \\nJoy, will have the part of Mar \\xad\\ngaret. The Universal  Film peo\\xad\\nple would like to have Margaret  \\nfor pictures,  but her mother  \\nsays “Latin first. ”\\nCast of the play: Lady Caro \\xad\\nline Laney,  Mrs. E. T. Dunham;  \\nMrs. Coade, Mrs. E. V. Ingra  \\nham; Mabel Purdieu,  Mrs. Wil\\xad\\nlard C. Brown; Alice Howard,  \\nMiss Virginia  Howard;  Margaret,  \\nCatherine  Hoffman;  Purdie, V. \\nEdwards;  Matey, John Potter;  \\nCoade, L. O. Dailey; Daerth,  \\nCoulter  De Klyn; Lob, Lafayette  \\nBetts. Howard Southgate  will \\ndirect the plays. Denman  Fink  \\nand A. W. Jones are making  the \\nsets.\\nARTISTS  TO FROLIC\\nTwo thousand  invitations  are', metadata={'source': './dataset/FI21052700_00002_19270122.pdf', 'page': 5}),\n",
       " Document(page_content='exclusive  hotel located near the \\nGulf Refining  company  at Miami  \\nBeach,  and would  soon open up the \\nroof garden  for the season.\\n“I shall soon open up the roof \\ngarden, ” said Greeby,  “and it will \\nbe very exclusive.  There will be \\nno cover charge. ”\\n“There ’s no cover on it anyway, ” \\nlaughed  Geraldine  as she did a \\nBrody  out of the window.\\n“Everyone  must have an invita \\xad\\ntion, ” continued  Greeby,  ignoring  \\ninterruption,  “and I hereby  invite  \\neverybody  to attend. Those  who do \\nnot desire  to dance may sit on the \\nsidelines  and drop concrete  blocks  \\nshould  them government  or county  \\nmen come around  again.  The motto  \\nwill be a square deal to all, and \\neveryone  with bulging  hips must  \\nsubmit  to a search. Whatever  is \\ncollected  will be poured into one \\ncommon  pool, and for 50 cents each  \\nguest  may have a glass. ”\\n“I bet you can sell plenty of \\ncaskets  over there, ” floated  in the \\nvoice of Little  Geraldine,  and Ham \\xad', metadata={'source': './dataset/FI21052700_00002_19270122.pdf', 'page': 1})]"
      ]
     },
     "execution_count": 32,
     "metadata": {},
     "output_type": "execute_result"
    }
   ],
   "source": [
    "ret.get_relevant_documents('what does miami beach garden theatre perform')"
   ]
  },
  {
   "cell_type": "code",
   "execution_count": 11,
   "id": "498fec7d",
   "metadata": {},
   "outputs": [
    {
     "data": {
      "text/plain": [
       "[(Document(page_content='OLYMPIA  THEATRE —Magnificent  in every detail. Fine sym\\xad\\nphony orchestra  and Sanley  Malotte  at the big wind organ. One of \\nour clever  columnists  was sorta harsh  with this boy Malotte  last week  \\nand personally  we can’t grow hysterical  over him either but he stops  \\nthe show at every performance  and that, of course,  is really what  \\ncounts.to\\nCAS’A GRANDE —Up on the Dixie. Old timer Allison  aided and \\nabetted  by Derby Jimmie  Hodges  serving  a salad of jazz, fun \\nand dance.\\nMERRICK ’S COUNTRY  CLUB —A perfect  spot in the heart of \\nthe Gables. The Jovial  Jan Garber  and his crew of troubadours  fur\\xad\\nnish sweet music  amid gorgeous  tropical  surroundings.  Biltmore  serv \\xad\\nice and atmosphere.\\nHOTEL  ANTILLA —Where  society  gathers  for their bridge and \\ngossips  to the \"Harmony ” of Joe Astoria\\'s  minstrels.\\nRONEY  PLAZA  POOLS —Thanks,  Newt, you sure fixed the old \\nswimmin ’ hole up mighty  fine.\\nCAPITOL  THEATRE —Meyer  and Wolfson ’s cinema  palace.  Your', metadata={'source': './dataset/FI21052700_00002_19270122.pdf', 'page': 5}),\n",
       "  0.3767356),\n",
       " (Document(page_content='Saturday,  January  22, 1927Page Seven\\n| Round  the Town  | \\nwith Rod\\nCIVIC  THEATER  PLAYS\\nThe first three-act  play to be \\npresented  by the Miami Civic  \\ntheater  will be J. M. Barrie ’s \\n“Dear Brutus, ” which will be \\ngiven at the University  of Miami  \\non the evenings  of January  27 \\nand 28. Catherine  Hoffman,  high  \\nschool girl, protege  of Beatrice  \\nJoy, will have the part of Mar \\xad\\ngaret. The Universal  Film peo\\xad\\nple would like to have Margaret  \\nfor pictures,  but her mother  \\nsays “Latin first. ”\\nCast of the play: Lady Caro \\xad\\nline Laney,  Mrs. E. T. Dunham;  \\nMrs. Coade, Mrs. E. V. Ingra  \\nham; Mabel Purdieu,  Mrs. Wil\\xad\\nlard C. Brown; Alice Howard,  \\nMiss Virginia  Howard;  Margaret,  \\nCatherine  Hoffman;  Purdie, V. \\nEdwards;  Matey, John Potter;  \\nCoade, L. O. Dailey; Daerth,  \\nCoulter  De Klyn; Lob, Lafayette  \\nBetts. Howard Southgate  will \\ndirect the plays. Denman  Fink  \\nand A. W. Jones are making  the \\nsets.\\nARTISTS  TO FROLIC\\nTwo thousand  invitations  are', metadata={'source': './dataset/FI21052700_00002_19270122.pdf', 'page': 5}),\n",
       "  0.40200406),\n",
       " (Document(page_content='present  good deportment  is main \\xad\\ntained by Hialeah  visitors.\\nmen like Jimmystuff,\\ncallskATTENTION\\nArchitects,  Artists,  Engineers  \\nWe have any article you need, in\\xad\\ncluding  a Modern  Blue Print Plant-  \\nPhotostat Dept... Picture Framing  \\nT Square & Triangle  Co. \\n141 N. E. 2nd Ave.\\nPhone 8751\\nBroadway  Comes  to Miami  Beach  \\nTonight\\nat the\\nMiami  Beach  Garden  Theater\\nwith And\\nBright and Glenn Curtis at \\nwork developing  subdivisions,  \\nmanufacturing  sections and  \\nbeauty spots, it won ’t be many  \\nseasons  before the game little  \\ncitv reaches  its place in the sun. \\n! ! !\\nA. K. Ewing  is the director  of \\npublic safety. Under him come  \\nLieut. Wm. A. Ennis, heading  \\nthe police department;  Ser\\xad\\ngeants  Woods,  Yoakum  and Mc\\xad\\nCamey,  12 patrolmen  and six \\nmotorcycle  men. all in uniforms  \\nof grey.developing  subdivisions,\\nPidureFiatmnd\\n( RICH  ARD  B.HOIT ) \\nNOI  HALCYON  ARCAOE-ROOM40  v \\n477 S.W.8  ST \\nQUICK  SERVICE : PARKING  SPACEWhen\\nNew York Stars Present', metadata={'source': './dataset/FI21052700_00002_19270122.pdf', 'page': 0}),\n",
       "  0.44410393),\n",
       " (Document(page_content='and Margaret  Cook, clever  dance artists  and Jimmie  Peyton  and his \\nversatile  orchestra  are all pleasing.  If you can’t sell her at the Sixty,  \\nask for a transfer.\\nWEIMER  S TA VERN —Frankie  and Johnnie  and Jake, the plumb-  \\nei and all the boys with the round haircuts  frolicking  in a hot dog \\natmosphere.  Check  your guns and spurs  and take a chance.\\nT A VIDA,  IN HIALEAH —The Downs  sisters. Pretty  song birds  \\nwarbling  pretty  melodies  in Tony Lamantia\\'s  beautiful  Blue and \\nGold playhouse.\\nMOVIE  INN—The place which made Stan Comstock  forget he \\nhad a wife and where  Connie  Almy  found  a new meal ticket. Oh, love,  \\nwhere  is thy conscience?  Pete Crossland,  who writes  the \"Low Down ” says it’s worth a play.\\nMON  1 MARTE —A good show with Joe Hamm  doing everything  please  his patrons.\\nOLYMPIA  THEATRE —Magnificent  in every detail. Fine sym\\xad\\nphony orchestra  and Sanley  Malotte  at the big wind organ. One of', metadata={'source': './dataset/FI21052700_00002_19270122.pdf', 'page': 5}),\n",
       "  0.44453013),\n",
       " (Document(page_content='Coulter  De Klyn; Lob, Lafayette  \\nBetts. Howard Southgate  will \\ndirect the plays. Denman  Fink  \\nand A. W. Jones are making  the \\nsets.\\nARTISTS  TO FROLIC\\nTwo thousand  invitations  are \\nbeing prepared  for the Fifth An\\xad\\nnual Masque  Dinner Dance and \\nArtists ’ Frolic of the Tropical  \\nLeague  of Fine Arts to be held \\nat the Fleet  wood hotel February  \\n1, Tuesday,  at 8 p. m., Judge  \\nWilliam  E. Walsh, of Miami  \\nBeach,  announced  yesterday.  Pro\\xad\\nceeds of the ball will be used for \\nscholarships  at the University  of \\nMiami.\\nThis ball is usually  taken by \\nthe country  at large as typical  \\nof the frolics of South Florida  \\nin the winter,  and the program,  \\ndinner,  decoration,  stunts,  novel \\xad\\nties and costumes  will be devel \\xad\\noped by tradition,  according  to \\nthe committee.  Arrangements  \\nand table reservations  will be \\nmade through Edgar Louis  \\nKeuling,  vice president  and di\\xad\\nrector of activities,  at the Nau \\xad\\ntilus Flower  Shop.\\nAIN ’T IT STRANGE?', metadata={'source': './dataset/FI21052700_00002_19270122.pdf', 'page': 5}),\n",
       "  0.44699112)]"
      ]
     },
     "execution_count": 11,
     "metadata": {},
     "output_type": "execute_result"
    }
   ],
   "source": [
    "## search a general word\n",
    "pdf_vs.similarity_search_with_score('theatre',5)"
   ]
  },
  {
   "cell_type": "code",
   "execution_count": null,
   "id": "43e57423",
   "metadata": {},
   "outputs": [],
   "source": []
  }
 ],
 "metadata": {
  "kernelspec": {
   "display_name": "Python 3 (ipykernel)",
   "language": "python",
   "name": "python3"
  },
  "language_info": {
   "codemirror_mode": {
    "name": "ipython",
    "version": 3
   },
   "file_extension": ".py",
   "mimetype": "text/x-python",
   "name": "python",
   "nbconvert_exporter": "python",
   "pygments_lexer": "ipython3",
   "version": "3.11.3"
  }
 },
 "nbformat": 4,
 "nbformat_minor": 5
}
