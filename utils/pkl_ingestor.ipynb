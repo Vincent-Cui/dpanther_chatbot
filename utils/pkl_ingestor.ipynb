{
 "cells": [
  {
   "cell_type": "code",
   "execution_count": 1,
   "id": "9856a0e9",
   "metadata": {},
   "outputs": [],
   "source": [
    "from langchain.document_loaders import PyPDFLoader\n",
    "import langchain\n",
    "from langchain.document_loaders import ReadTheDocsLoader, TextLoader, DirectoryLoader\n",
    "from langchain.text_splitter import RecursiveCharacterTextSplitter"
   ]
  },
  {
   "cell_type": "code",
   "execution_count": 2,
   "id": "3a9e5dbe",
   "metadata": {},
   "outputs": [],
   "source": [
    "from langchain.embeddings import OpenAIEmbeddings\n",
    "from langchain.vectorstores.faiss import FAISS\n",
    "from langchain.chains import ConversationalRetrievalChain\n",
    "from langchain.chat_models import ChatOpenAI\n",
    "from langchain.llms import OpenAI"
   ]
  },
  {
   "cell_type": "code",
   "execution_count": 3,
   "id": "0e3fc6d3",
   "metadata": {},
   "outputs": [],
   "source": [
    "import pickle"
   ]
  },
  {
   "cell_type": "code",
   "execution_count": 6,
   "id": "c8163465",
   "metadata": {},
   "outputs": [],
   "source": [
    "## function to ingest pdf, txt or directory of pdfs into the vector database\n",
    "def ingest_pdfs(location, dbname):\n",
    "    \"\"\"Get documents from web pages.\"\"\"\n",
    "    loader = PyPDFLoader('./dataset/'+location)\n",
    "    raw_documents = loader.load()\n",
    "    text_splitter = RecursiveCharacterTextSplitter(\n",
    "        chunk_size=1000,\n",
    "        chunk_overlap=200,\n",
    "    )\n",
    "    documents = text_splitter.split_documents(raw_documents)\n",
    "    embeddings = OpenAIEmbeddings()\n",
    "    vectorstore = FAISS.from_documents(documents, embeddings)\n",
    "\n",
    "    # Save vectorstore\n",
    "    with open(\"./vs_test/\" + dbname + \".pkl\", \"wb\") as f:\n",
    "        pickle.dump(vectorstore, f)\n",
    "        \n",
    "def ingest_txts(location, dbname):\n",
    "    \"\"\"Get documents from web pages.\"\"\"\n",
    "    loader = TextLoader('./dataset/'+location)\n",
    "    raw_documents = loader.load()\n",
    "    text_splitter = RecursiveCharacterTextSplitter(\n",
    "        chunk_size=1000,\n",
    "        chunk_overlap=200,\n",
    "    )\n",
    "    documents = text_splitter.split_documents(raw_documents)\n",
    "    embeddings = OpenAIEmbeddings()\n",
    "    vectorstore = FAISS.from_documents(documents, embeddings)\n",
    "\n",
    "    # Save vectorstore\n",
    "    with open(\"./vs_test/\" + dbname + \".pkl\", \"wb\") as f:\n",
    "        pickle.dump(vectorstore, f)\n",
    "\n",
    "def ingest_dir(location, dbname):\n",
    "    \"\"\"Get documents from folders.\"\"\"\n",
    "    loader = DirectoryLoader('./dataset/'+location, glob='**/*.pdf', show_progress=True, loader_cls=PyPDFLoader)\n",
    "    raw_documents = loader.load()\n",
    "    text_splitter = RecursiveCharacterTextSplitter(\n",
    "        chunk_size=1000,\n",
    "        chunk_overlap=200,\n",
    "    )\n",
    "    documents = text_splitter.split_documents(raw_documents)\n",
    "    for i in range(len(documents)):\n",
    "        documents[i].page_content = \"unique_file_name:\" + documents[i].metadata['source']+\"\\n\\n\" +documents[i].page_content\n",
    "    # print(documents[1])\n",
    "    embeddings = OpenAIEmbeddings()\n",
    "    vectorstore = FAISS.from_documents(documents, embeddings)\n",
    "\n",
    "    # Save vectorstore\n",
    "    with open(\"./vs/\" + dbname + \".pkl\", \"wb\") as f:\n",
    "        pickle.dump(vectorstore, f)"
   ]
  },
  {
   "cell_type": "code",
   "execution_count": 7,
   "id": "c6b0264f",
   "metadata": {},
   "outputs": [],
   "source": [
    "## ingest the pdf file into the vector store\n",
    "ingest_pdfs('FI21052700_00002_19270122.pdf', 'pdf')"
   ]
  },
  {
   "cell_type": "code",
   "execution_count": 5,
   "id": "e81ee0f2",
   "metadata": {},
   "outputs": [],
   "source": [
    "## read the vector db to memory\n",
    "with open(\"../vs_test/miamilife_pdf_2k.pkl\", \"rb\") as f:\n",
    "        global pdf_vs\n",
    "        pdf_vs = pickle.load(f)"
   ]
  },
  {
   "cell_type": "code",
   "execution_count": 10,
   "id": "32629c01",
   "metadata": {},
   "outputs": [],
   "source": [
    "## search a question\n",
    "results = pdf_vs.similarity_search_with_score('Please list related responses from the society during the time of prohibition in Miami area',5)"
   ]
  },
  {
   "cell_type": "code",
   "execution_count": 11,
   "id": "c024ea04",
   "metadata": {},
   "outputs": [
    {
     "data": {
      "text/plain": [
       "[(Document(page_content='But wise barkeeps, who\\'ve invested untold thousands inthe demand is because of\\ntheHialeah police department bars and licenses and governmental liquor in thelast year or\\non and find\\nofb sinsfuantiesto, have anayzed the questionsw have to voteinvariably that they\\'ll be virtually run out -owner of the new Paddockbuying such copiousto sugar hot coffee part f o f\\'g\\nMiami Beach,afoul ofBar, on Washington, at 7th rent drunks who run\\nthe law.with a \"Yes\" vote.\\nWhoever worded the proposals must have been paid off\\na few days ago. The 11 a. m. story re-\\nvealing minor details of the mysteriouspIenty\\nIneffect, we are simply to revert to conditions as theyDo you remember Sports Edi-\\ntor Jack Bell, then with the\\nHerald, writing about the diffi-\\ncult time Dale Gardner, acting\\nas second and suffering from\\nlocomotor ataxia, had walking up\\nand down the arena steps at\\nMadiwom Square Garden?\\nHarry Graham, the noted fight\\nreferee, furnishes a good wind-\\nup.\\n\"Dale, like most afflicted peo-\\npie, resents any allusions, and\\nDale was furious,\" Harry said.\\n\"\\'`Go back and tell that so-and-\\nso Jack Bell that I\\'ll bet I can\\nclimb into a ring faster than he\\ncan climb o rope!\\'\\nJack, you know, has only one\\narm.existed in the last of the year\\n1.918,when Florida was bone-\\ndry, and Dade county, a tiny\\npopulation the, the bone-dri-\\naest p\"We\\'d be better off, under\\nnational prohibition,\" reminis-You Cannot midnight shooting at a West Avenue into action by this latest outrage.\\nBeach apartment house telephone carried thruPlease pardon, if we go into\\nhistory, very briefly. addVotingto the blue-streak final, without anLose ed detail. Next day\\'s News mentioned\\nnothing about it until on page 4, where it\\nwas politely coupled with another killing\\nthat wasn\\'t even remotely connected\\nwith it.outset of the campaign two\\nwhen the then mayor, Vaprommnent purveyor ced aAt the\\nyears ago,yes-\\nterday. lAfter all, ndurm g\\nprohibition we had so few col-', metadata={'source': 'dataset\\\\miamilife_pdf\\\\FI21052702_00007.pdf', 'page': 0}),\n",
       "  0.31086138),\n",
       " (Document(page_content='their razor  backs,  to keep out any nitwit  who might  \\nbecome  so insane  as to build a plant  at Watertown,  \\nFla.\\nWe’d like to have a say, at least.Mourning,  After the Night Before\\nAMID SCENES  of riotous  gaiety the city of Miami  Beach went dry E \\nlast night at the stroke  of twelve. Its formal  adoption  of prohibition  \\nwas rendered  delightfully  informal  by the thousands  who thronged  the H \\nsaloons  during  the evening,  laying  in their stocks and singing  and drink-  fg \\ning to the health of Papa Volstead.\\nWhat the nation did on the eve of July 1, 1919, the beach city du- \\nplicated  last night. As the hour of twelve  approached  the festivities  as- Kff \\nsumed the proportions  of mass celebration.  Long after the drink em- \\nporiums  had ejected  the patrons  at the witching  hour rollicking  crowds  H \\nsurged  the streets  yodeling  “How Dry I Am“ and other amusing  songs.\\nToday there are many parched  throats  among those who lack auto- M \\nmobiles  or car fare to cross the causeway.\\nLast week attention  of the city officials  was called  to the fact that the \\nUnited  States  had gone dry in 1919. Special  government  emissaries  con- Jo \\nveyed the startling  information.  The amazement  of the council,  police H $ department  and bootleggers  can be easily imagined.\\n“Volstead  Act? ” they queried. “What is it?” /\\nThe government  men gently explained  how congress  passed a law in RS \\n1918 that provided  if a majority  of states ratified  the law, the country  \\nwould go dry in the summer  of 1919. “We know you fellows  live pretty  far south and probably  haven ’t heard of it yet and so we thought  we’d HH \\nbetter tell you about it,” they said.\\nThey showed  copies  of the New York Sun to prove their claim. “Well,  if it’s in the Sun, it must be true, ” the council  decided.\\n“But surely  everything  is not dry, ” said a police  officer. “What about  \\nCicero,  III? And New York City? ”', metadata={'source': 'dataset\\\\miamilife_pdf\\\\FI21052700_00014_19270416.pdf', 'page': 0}),\n",
       "  0.32335687),\n",
       " (Document(page_content=\"valuation, he and others placed on these properties, is all wrong.\\nThe amateurs are having the time of their lives messingi bocntwith the city's legislation. They are going to have a hard tise of\\nit. There is no recall in Coral Gables, therefore the new cmrm.s-\\nsioners will have to serve until next June.\\nIt will serve them right for getting into the mixup.\\nRotten Liquor\\nLIQUOR is prohibited by the Eighteenth Amendment of cou'.Constitution. And the greatest armada ever manned duringpeace times is in active duty trying to prohibit the landing ofsmuggled goods from foreign shores. Customs men, coastguards-\\nmen, prohibition agents, and score of other agencies are bending\\nevery effort to stop the inflow.\\nYet right here in Florida, and particularly in Miami, morerot-gut, poisonous liquor is being manufactured and sold than\\never before in history.\\nCarta de Ora Bacardi of the olden times is a rarity. The\\nmixture one gets now would make the toughest Harlem billygoat's\\nstomach loop the loop and do an inside hootchie-cootchie. Spur-\\nious gin, tasting like the squeezings of an old mop used to oil\\nmosquito-breeding grounds, and ryes which would cause many a\\ntombstone to sink, seem to freely go the rounds and end in the\\ninnards of some of our best and most serious drinkers.\\nIf the law-enforcement agencies don't soon catch the manu-\\nfacturers they may soon lose their federal jobs, for the 18th\\namendment will soon become a reality if the manufacturers of the\\nstuff still go free.\\nTHE SOUTHERN BANK & TRUST COMPANY again pays an additional five\\nper cent dividend, and this three years ahead of schedule. Which proves\\nthat the faith placed in J. N. Lummus, and his worn-out suspenders, little brown\\nhat, and greyish umbrella were not misplaced.\\nDoes It Bother You?\\nFRIEND states that he does not like radios. Asked why, he said he never\\ngot the chance to hear one. Every time he goes visiting he states that\\neither the host or hostess immediately turn on the radio the minute he enters\", metadata={'source': 'dataset\\\\miamilife_pdf\\\\FI21052703_00025.pdf', 'page': 0}),\n",
       "  0.33364463),\n",
       " (Document(page_content='ttot offiee at Miami, Fla., un tei The recent traffic excitement P catzenhofer are in demand. I prefer Dressier for my own thirst. F udrte Teecn\\nAtofEarch 0, 1870_ _ _ shows more clearly than anything Christmas luxuries are going to be high this year. The local twice or Mrs. Jimmie look cock- ti exd-xtrt oTib o ADVER \\'istt i ever with of, dar prohibition unit has raised merry hallelujah with the home ash eyed at me. tt ]. \\'\"7-Advrtitngconracs a somte an aceped y mtte wih Mami der od \\'. pu A Miamian tesai Le tbe sto toria o approvt l sdotis Edi str bes thes ft n r y aeecontra Ma product distilleries. They\\'ve waded the Everglades up to their Squawk from Junior who has an tlepho\\naccepted by the business office or its advertising staff-t cacesame at any time after acceptance-and Miamineks and knocked off some of the largest stills ever but. The crept under the table and bumped ing osf yati 0f a iaor indirablhe M esy this, too, without takg present force is to be congratulated for good work in protecting x ® g to his wife:(All articles and miustrabonvs In this issue are copyright by Miami Life co., 1928) sides, either for or agamnst, either % th publi from. the rog tlq o. Iih .S o msinr xl-D aeh ll behm \\n- ®®the public from the rotgut liquor. If the U. S. Commissioner \\'z hi head.sh hom\\n(Permission must be had from the Publisher for reproduction of material.) two-way or one-way traffic. 30 would lay a heavy bond on the moonshine culprits, it wouldn\\'t N I win the fourth pot. I ex \\'n hour and be k\\nWhen we had one-way traffic rx be long before the game stopped. As was said before, bad i Mrs. Jimmy starts to read the u drinks. ffshteen I\\nthere were a lot of kickers among id liquor isn\\'t just the thing for good stomachs. Prices show no n7 Morning Herald. Finds Junior x xx\\nthose who wanted two-way. No- .\\' material change this week. Quotations are as follows, Miami, has eaten the funnies and torn up', metadata={'source': 'dataset\\\\miamilife_pdf\\\\FI21052703_00048.pdf', 'page': 3}),\n",
       "  0.33646038),\n",
       " (Document(page_content='vention went away with our liquor. But, thank\\ngoodness, we had enough of all our assets to go\\naround and everybody was satisfied, and all the\\ndelegates to both conventions left with good tastes\\nin their mouths-except, possibly, the dry squads\\nwho had to sample Hialeah Bacardi and Little River\\nScotch.\\nNow all we have to do is to think over the com-\\ning election (which means that, following our usual\\ncustom, we voters will simply take a nap) and wait\\nfor the Elks. At the time of going to press, it is not\\nknown whether the Prohibition Agents will stage\\nanother convention. At any rate, they haven\\'t been\\nasked and they probably won\\'t come.\\nNo Miamian made a dime out of the convention.\\nWe mean, of course, in cash profits. There are go-\\ning to be a lot of long faces when the business folk\\ntake inventory and look over the auditor\\'s state-\\nment. The hotels never gave lower rates-and,\\nmind you, they had held over their expensive crews\\nat a loss simply to entertain the Shriners. Restau-\\nrants had the lowest prices in history. ConcessionFate and Quigg\\n[TALK about fate and coincidence! Look at the case of\\nChief of Police Leslie Quigg. He suffered the loss of his\\nfather a few years ago. Then a brother-in-law, Raymond Lee,\\nwas shot to death. Then the boom collapsed and he lost al-\\nmost all his money. Then he was indicted for first degree\\nmurder for the death of a negro and shut up in the stockade\\n[ without bail. While awaiting trial, his own brother, Ralph\\nQuigg, died in Louisville, Kentucky. Shortly before the jury\\nbrought in their verdict he was reindicted for assault and\\nbattery. He had a triumphal acquittal last Saturday after-\\nnoon only to be stunned by the murder of another brother-in-\\nlaw, Philip Lee, Hallandale Chief of Police, on Sunday. Curi-\\nously enough it was a negro who killed his brother-in-law.\\n\"What a tangled web the fateful sisters spin!\"\\nmen are singing the blues, bootleggers lost not only\\ntheir boats and big stocks of liquor but their get-', metadata={'source': 'dataset\\\\miamilife_pdf\\\\FI21052703_00018.pdf', 'page': 0}),\n",
       "  0.3365952)]"
      ]
     },
     "execution_count": 11,
     "metadata": {},
     "output_type": "execute_result"
    }
   ],
   "source": [
    "results"
   ]
  },
  {
   "cell_type": "code",
   "execution_count": 9,
   "id": "4e8bc2f4",
   "metadata": {},
   "outputs": [
    {
     "data": {
      "text/plain": [
       "5"
      ]
     },
     "execution_count": 9,
     "metadata": {},
     "output_type": "execute_result"
    }
   ],
   "source": [
    "len(results)"
   ]
  },
  {
   "cell_type": "code",
   "execution_count": 6,
   "id": "f93be5fe",
   "metadata": {},
   "outputs": [
    {
     "data": {
      "text/plain": [
       "[(Document(page_content='SPOITN G PAn REAC- A i te UNDER NhEWA MANAGEMENTSP L I G RONEY PLAZA SotwietrTHnc ater dimn ~\\nAmerica\\'s Foremost T EA G A E _ WITH\\nVIOLINIST TEA G Chester Alexander\\nAT Saturday Afternoon, Jan. 1 a\\nMrami4Beachntrom60Ja. t 14i aP.Miami Beach Fro 4:0Utl6PM Miamni\\'s Sidesplitting Comedian, formerly of Jungle Inn\\n-Garden Theatre c teday, o Thauersd te\\nGarden Tet nhe fora n h , . BILLY PEEL RHODA FREED\\nAlton Road and 41st St. DANCE MUSIC BY (Basso of th, Deep C\\'s) (Mistress of Blues)\\nAll Good Seats ....75c to $2.50 \\' Armellini\\'s Roney\\nRESERVATIONS: Plaza Orchestra .\\nMiami Ticket OConee 231 E iager So. e frh oinace P(re. 7 I 0The Lindbergh of Hoofers)Phone, 32075 mi WirClAND\\nMiami Beach Bon Office 2119 M. B. - . e\\nBnanen tenor Miami. 23i E. Fliger St. Wam. G. McMeehin\\nPeonce do Leon Hotel) for Conernt - Manager 33 N.E. 2ND AV- ! FST. Frank Madden and His Orchestra\\nAll Next Week, \"RAIN\"', metadata={'source': 'dataset\\\\miamilife_pdf\\\\FI21052703_00002.pdf', 'page': 3}),\n",
       "  0.3262884),\n",
       " (Document(page_content='January  17,18,19,  20\\nMIAMI  TRANSIT  COMPANY\\ntXXX3t3l3tMt3nt3tMt3IMtM^^SINATRAK»<\\nNOW\\nOPENUnder the Per-\\nROYAL  THEATER MARKLEY ’SX»“l\\n¡[ - j \\n¡v’Sole \\nDistributorsOnce Again\\nsonal Management  of\\nGeo. J. GreenspanFor RESERVATIONS\\nPhone  58-2501-APPROVED-SANIWM\\nHEALTn —HOTEL\\nfor\\nREST,  CONVALESCENCE  \\nard CHRONIC  CASES  \\nFive Acres Tropics]  Grounds!  Comfortable  \\nRooms  1 Delicious  Meals ; \\nSports, Rec-eations ; Com \\xad\\nplete diagnostic  Facilities ; \\nResident  Physician ; Con\\xad\\nsulting Staff ; Graduate  \\nNurses  ; Dietitian  ; Modern  \\nMedications ; Baths, Mas\\xad\\nsage, Irrigations,  DUthe ”- \\nmy. Sun-baths,  etc. for \\nResident  or Out-patients.\\nREASONABLE  RATES\\nSUN RAY PARK\\nHfALTH  RESOtl Our chefs have a\\nday off — But  \\nnever  an off day\\n4\\n3\\n51ree¿>wn¿xced  fy \\nÁte  own /tem ccari  /c\\nIIKRRDEW  <\\nKiPOPULAR  COCKTAIL  HOUR —3:30 to 5 \\nHors D’ouvres  ServedN. E. 2nd Ave. at 4th Street\\nOpen ’Til 3 O’clock in the Morning\\nFor Reservations  — Phone  3-1872  \\nOpen Daily  ^ir Conditioned\\n5 For Breakfast,  Lunch  & DU\"er parking  Facilities  \\n£ .................................Miami ’s Downtawn  Theater\\n310 S. E. First Streetffe Sell Rent and Tune Piañas  I\\n24 S. W. 20th Ave.\\nPhone 82-3404\\nDON\\'T  FORGET  to mail in YOUR  Subscrip  tto MIAMI  LIFE!I', metadata={'source': 'dataset\\\\miamilife_pdf\\\\FI21052701_00003_19490115.pdf', 'page': 1}),\n",
       "  0.32801917),\n",
       " (Document(page_content='every evening.  Eats, drinks,  and tables, too !\\nPARK  PLAN  | 71st STREET  I ADMISSION  10c\\nDANCING  NIGHTLY  | N. MIAMI  AVENUE  | EXCEPT  SUNDAY\\n8 \\ng\\nASK YOUR  councilman  to save us, the jitney men who have served  \\nyear after year when there were no transportation  facilities;  who \\ngave you the only transportation  on the beach in the weeks  following  the \\nhurricane;  who have always  provided  the quickest  service  between  points.  \\nAsk your councilman  to save tis from being barred from the streets  of \\nMiami Beach.', metadata={'source': 'dataset\\\\miamilife_pdf\\\\FI21052700_00028_19270723.pdf', 'page': 3}),\n",
       "  0.3282135),\n",
       " (Document(page_content=\"days. Readings  by appointments.  Tele \\xad\\nphone 7556.\\n412 N. E. FIRST  AVE.\\nif the \\nbroad-\\nPICTURESQUE  GARDEN  \\nPARTY  AND CONCERT up the^IJILLION-DOLLAR  Pier \\nRussell  Garnet\\nFulford-By-the-Sea\\nJoy  land\\nRoosevelt  Hotel\\nEvelyn  Nesbit\\nMiami Athletic  Club\\nAll-States  Building\\nMiami Beach Police Circus  \\nCroissantania\\nCentral  Miami\\nFloranada\\nTamiami  Oil Well\\nTenth Avenue  Brewery\\nE. A. Roberts\\nKey Largo\\nBoca Raton\\nHialeah  Fronton\\nDeauville  Casino\\nHalf-Moon\\nCharlie ’s Grill\\nVenetian  Causeway\\nJimmy  Hodges\\nMiami Sun\\nMiami Beach Railway  Company  \\nMeyer-Kiser  Building\\nW. A. Welle\\nCoral Gables Coliseum  \\nAll-Florida  Realty Co.\\nR. Hammerhead  Greeby  \\nPompano  Horse Club\\nThe Dugout\\nDANCING,  SUNDAY  EVE.\\nSHORELAND  BALLROOM\\nWith Miami  • Oltfaat  anti Meat Ptf- \\nuiar Toarins  Campaay  \\nALL EXPENSE  TOUBf  \\n4-5-«-Day  Toun  \\n$75—695—1111\\nGet our new 12-pase folder. It \\nrivsa complete  and definite  \\n(nation that wiil not naiilead  m \\nJones  Tours\\n89 N. E. 2nd Are. Phan« 8471 \\nSpanish  Village.  Miami\\nINSTANT  BEAUTY  GUARANTEE!!\\nPrincess  Zoraida  is ably assisted  by \\nProfessor  Prescott,  America ’s fore \\xad\\nmost Palmist  and Astrologist.\\nLook 10 to 20 Years Younger  \\nin 30 Minutes\\nI fail to do this you owe me nothing  \\nHeaviest  lines removed instantly. N( \\npain or danger. One treatment  enable  \\nyou to keep your youthful  appearance  \\nthrough  life with little effort.\\nNo knife or filling. See this wondqrfu'  \\nwork demonstrated  daily. Treatment  K \\nA. M. to 5:30 p. m.\\nWill Teach My Method\\nMME. GRESHAM\\n345 N. W. Third Street, Apt 19. \\nMethod  protected  by copyrights.Benefit  Parent-Teacher  \\nAssociation  of Miami Beach\\nAt Carl G. Fisher ’s Bay front home  \\non N. Bay road and 50th St.\\nTuesday  Evening.  March 15, 1927  \\nat 8:30 p. m.\\nOne Dollar,  Including  Refreshments  \\nMoonlight!  Enchantment!\\nMusic !\\nEUROPE  this Summer  \\nReservations  ard tickets via All \\nTrans-Atlantic  lines. Best available  \\ncaorns at lowest prevailing  prices.\", metadata={'source': 'dataset\\\\miamilife_pdf\\\\FI21052700_00009_19270312.pdf', 'page': 5}),\n",
       "  0.33348468),\n",
       " (Document(page_content='hen\\'s ((Seven  Keys to Baldpate\"  that you will have missed  the clever^  \\nbit of entertainment  offered  to Miamians  this season.************\\nRAINBOW  GARDENS —At the foot of the causeway.  A modern  \\npriced  night  club, prettily  decorated,  presenting  a very nice show. Mm \\nFisher\\'s Ziegfeld  Follies  Orchestra.\"  Evelyn  Nesbit,  hostess.************\\nprice of admission  without  i \\nand f irst run pictures.  TafeOLYMPIA  THEATER —Worth  the \\nshow. A high class symphony  orchestra  \\nin regular  doses.*********  \\nRONEY  PLAZA  POOLS —The \"\"ole \\na magic  tvand.* * *\\n.. _ swimmin\\'  hole\\' 1 touched  with \\nThe spot on the beach to wear the one-pieces.\\nA REAL  PRINTER  IS ALWAYS\\nIN DEMAND\\nJN every  community  you ll find this so. And by that we don ’t \\nmean  the fellow  who throws  your  job together  ... hammers  \\nit out on a decrepit  press . . . and hands  it to you with an \\napology.  No, Sir! Your  real printer  is capable  of giving  more  \\nthan that. Experience  has fitted  him to handle  every  situation  \\nthat arises. The matter  of Design,  the Engraving  of Cuts,  the \\nuse of Color,  the selection  of Paper,  the proper  Binding  and \\na host of other  details  are familiar  to him. You find, \\nwhen you deal with him, that real printing  is \\nmore  than mere  type and ink and pa\\xad\\nper . . . and you profit\\nthereby\\nTHE GENERAL  PRINTING  CO.\\n“The Home  of Qood Printing ”\\n117 Halcyon  Arcade  31^3 Jefferson  Ave.\\nMiami  Miami Beach\\nOWNED  AND OPERATED  DY MIAMI  LIFE  CO.', metadata={'source': 'dataset\\\\miamilife_pdf\\\\FI21052700_00006_19270219.pdf', 'page': 3}),\n",
       "  0.33847696)]"
      ]
     },
     "execution_count": 6,
     "metadata": {},
     "output_type": "execute_result"
    }
   ],
   "source": [
    "## search a specific phrase\n",
    "pdf_vs.similarity_search_with_score('miami beach garden theatre',5)"
   ]
  },
  {
   "cell_type": "code",
   "execution_count": 17,
   "id": "72d0d8f8",
   "metadata": {},
   "outputs": [],
   "source": [
    "## create a retriever from vector db and make sure the relavance score is larget than 0.2\n",
    "ret = pdf_vs.as_retriever(\n",
    "    search_type=\"similarity_score_threshold\",\n",
    "    search_kwargs={'score_threshold': 0.2, 'k': 15}\n",
    ")\n",
    "## create a ConversationalRetrievalChain to query from ret\n",
    "chain = ConversationalRetrievalChain.from_llm(ChatOpenAI(model=\"gpt-4\", temperature=0.7), \n",
    "                                                  retriever=ret,\n",
    "                                                  return_source_documents=True,)"
   ]
  },
  {
   "cell_type": "code",
   "execution_count": 18,
   "id": "c011c199",
   "metadata": {},
   "outputs": [],
   "source": [
    "## try query the ConversationalRetrievalChain, it will return the answer plus the relavant documents\n",
    "chat_history = []\n",
    "query = \"Please list related responses from the society during the time of prohibition in Miami area\"\n",
    "result = chain({\"question\": query, \"chat_history\": chat_history})"
   ]
  },
  {
   "cell_type": "code",
   "execution_count": 19,
   "id": "5a7b09e0",
   "metadata": {},
   "outputs": [
    {
     "data": {
      "text/plain": [
       "{'question': 'Please list related responses from the society during the time of prohibition in Miami area',\n",
       " 'chat_history': [],\n",
       " 'answer': '1. Efforts to Enforce Prohibition: The local authorities, including the Miami police department, invested significant efforts to enforce prohibition laws. They issued licenses and conducted inspections at bars to ensure compliance with the laws.\\n\\n2. Public Sentiment: Among the public, there seems to have been a mix of opinions about prohibition. Some people were supportive of the laws, as indicated by the formation of the \"Greater Miami Council of Churches\" and the \"Laymen’s Committee of 1,000\". These groups held public meetings to discuss issues such as gambling and the breakdown of law enforcement, which they saw as linked to alcohol consumption.\\n\\n3. Economic Impact: Prohibition appears to have had a significant economic impact. Bars and liquor stores were forced to close or face legal consequences, which may have led to job losses. At the same',\n",
       " 'source_documents': [Document(page_content='But wise barkeeps, who\\'ve invested untold thousands inthe demand is because of\\ntheHialeah police department bars and licenses and governmental liquor in thelast year or\\non and find\\nofb sinsfuantiesto, have anayzed the questionsw have to voteinvariably that they\\'ll be virtually run out -owner of the new Paddockbuying such copiousto sugar hot coffee part f o f\\'g\\nMiami Beach,afoul ofBar, on Washington, at 7th rent drunks who run\\nthe law.with a \"Yes\" vote.\\nWhoever worded the proposals must have been paid off\\na few days ago. The 11 a. m. story re-\\nvealing minor details of the mysteriouspIenty\\nIneffect, we are simply to revert to conditions as theyDo you remember Sports Edi-\\ntor Jack Bell, then with the\\nHerald, writing about the diffi-\\ncult time Dale Gardner, acting\\nas second and suffering from\\nlocomotor ataxia, had walking up\\nand down the arena steps at\\nMadiwom Square Garden?\\nHarry Graham, the noted fight\\nreferee, furnishes a good wind-\\nup.\\n\"Dale, like most afflicted peo-\\npie, resents any allusions, and\\nDale was furious,\" Harry said.\\n\"\\'`Go back and tell that so-and-\\nso Jack Bell that I\\'ll bet I can\\nclimb into a ring faster than he\\ncan climb o rope!\\'\\nJack, you know, has only one\\narm.existed in the last of the year\\n1.918,when Florida was bone-\\ndry, and Dade county, a tiny\\npopulation the, the bone-dri-\\naest p\"We\\'d be better off, under\\nnational prohibition,\" reminis-You Cannot midnight shooting at a West Avenue into action by this latest outrage.\\nBeach apartment house telephone carried thruPlease pardon, if we go into\\nhistory, very briefly. addVotingto the blue-streak final, without anLose ed detail. Next day\\'s News mentioned\\nnothing about it until on page 4, where it\\nwas politely coupled with another killing\\nthat wasn\\'t even remotely connected\\nwith it.outset of the campaign two\\nwhen the then mayor, Vaprommnent purveyor ced aAt the\\nyears ago,yes-\\nterday. lAfter all, ndurm g\\nprohibition we had so few col-', metadata={'source': 'dataset\\\\miamilife_pdf\\\\FI21052702_00007.pdf', 'page': 0}),\n",
       "  Document(page_content='their razor  backs,  to keep out any nitwit  who might  \\nbecome  so insane  as to build a plant  at Watertown,  \\nFla.\\nWe’d like to have a say, at least.Mourning,  After the Night Before\\nAMID SCENES  of riotous  gaiety the city of Miami  Beach went dry E \\nlast night at the stroke  of twelve. Its formal  adoption  of prohibition  \\nwas rendered  delightfully  informal  by the thousands  who thronged  the H \\nsaloons  during  the evening,  laying  in their stocks and singing  and drink-  fg \\ning to the health of Papa Volstead.\\nWhat the nation did on the eve of July 1, 1919, the beach city du- \\nplicated  last night. As the hour of twelve  approached  the festivities  as- Kff \\nsumed the proportions  of mass celebration.  Long after the drink em- \\nporiums  had ejected  the patrons  at the witching  hour rollicking  crowds  H \\nsurged  the streets  yodeling  “How Dry I Am“ and other amusing  songs.\\nToday there are many parched  throats  among those who lack auto- M \\nmobiles  or car fare to cross the causeway.\\nLast week attention  of the city officials  was called  to the fact that the \\nUnited  States  had gone dry in 1919. Special  government  emissaries  con- Jo \\nveyed the startling  information.  The amazement  of the council,  police H $ department  and bootleggers  can be easily imagined.\\n“Volstead  Act? ” they queried. “What is it?” /\\nThe government  men gently explained  how congress  passed a law in RS \\n1918 that provided  if a majority  of states ratified  the law, the country  \\nwould go dry in the summer  of 1919. “We know you fellows  live pretty  far south and probably  haven ’t heard of it yet and so we thought  we’d HH \\nbetter tell you about it,” they said.\\nThey showed  copies  of the New York Sun to prove their claim. “Well,  if it’s in the Sun, it must be true, ” the council  decided.\\n“But surely  everything  is not dry, ” said a police  officer. “What about  \\nCicero,  III? And New York City? ”', metadata={'source': 'dataset\\\\miamilife_pdf\\\\FI21052700_00014_19270416.pdf', 'page': 0}),\n",
       "  Document(page_content=\"valuation, he and others placed on these properties, is all wrong.\\nThe amateurs are having the time of their lives messingi bocntwith the city's legislation. They are going to have a hard tise of\\nit. There is no recall in Coral Gables, therefore the new cmrm.s-\\nsioners will have to serve until next June.\\nIt will serve them right for getting into the mixup.\\nRotten Liquor\\nLIQUOR is prohibited by the Eighteenth Amendment of cou'.Constitution. And the greatest armada ever manned duringpeace times is in active duty trying to prohibit the landing ofsmuggled goods from foreign shores. Customs men, coastguards-\\nmen, prohibition agents, and score of other agencies are bending\\nevery effort to stop the inflow.\\nYet right here in Florida, and particularly in Miami, morerot-gut, poisonous liquor is being manufactured and sold than\\never before in history.\\nCarta de Ora Bacardi of the olden times is a rarity. The\\nmixture one gets now would make the toughest Harlem billygoat's\\nstomach loop the loop and do an inside hootchie-cootchie. Spur-\\nious gin, tasting like the squeezings of an old mop used to oil\\nmosquito-breeding grounds, and ryes which would cause many a\\ntombstone to sink, seem to freely go the rounds and end in the\\ninnards of some of our best and most serious drinkers.\\nIf the law-enforcement agencies don't soon catch the manu-\\nfacturers they may soon lose their federal jobs, for the 18th\\namendment will soon become a reality if the manufacturers of the\\nstuff still go free.\\nTHE SOUTHERN BANK & TRUST COMPANY again pays an additional five\\nper cent dividend, and this three years ahead of schedule. Which proves\\nthat the faith placed in J. N. Lummus, and his worn-out suspenders, little brown\\nhat, and greyish umbrella were not misplaced.\\nDoes It Bother You?\\nFRIEND states that he does not like radios. Asked why, he said he never\\ngot the chance to hear one. Every time he goes visiting he states that\\neither the host or hostess immediately turn on the radio the minute he enters\", metadata={'source': 'dataset\\\\miamilife_pdf\\\\FI21052703_00025.pdf', 'page': 0}),\n",
       "  Document(page_content='ttot offiee at Miami, Fla., un tei The recent traffic excitement P catzenhofer are in demand. I prefer Dressier for my own thirst. F udrte Teecn\\nAtofEarch 0, 1870_ _ _ shows more clearly than anything Christmas luxuries are going to be high this year. The local twice or Mrs. Jimmie look cock- ti exd-xtrt oTib o ADVER \\'istt i ever with of, dar prohibition unit has raised merry hallelujah with the home ash eyed at me. tt ]. \\'\"7-Advrtitngconracs a somte an aceped y mtte wih Mami der od \\'. pu A Miamian tesai Le tbe sto toria o approvt l sdotis Edi str bes thes ft n r y aeecontra Ma product distilleries. They\\'ve waded the Everglades up to their Squawk from Junior who has an tlepho\\naccepted by the business office or its advertising staff-t cacesame at any time after acceptance-and Miamineks and knocked off some of the largest stills ever but. The crept under the table and bumped ing osf yati 0f a iaor indirablhe M esy this, too, without takg present force is to be congratulated for good work in protecting x ® g to his wife:(All articles and miustrabonvs In this issue are copyright by Miami Life co., 1928) sides, either for or agamnst, either % th publi from. the rog tlq o. Iih .S o msinr xl-D aeh ll behm \\n- ®®the public from the rotgut liquor. If the U. S. Commissioner \\'z hi head.sh hom\\n(Permission must be had from the Publisher for reproduction of material.) two-way or one-way traffic. 30 would lay a heavy bond on the moonshine culprits, it wouldn\\'t N I win the fourth pot. I ex \\'n hour and be k\\nWhen we had one-way traffic rx be long before the game stopped. As was said before, bad i Mrs. Jimmy starts to read the u drinks. ffshteen I\\nthere were a lot of kickers among id liquor isn\\'t just the thing for good stomachs. Prices show no n7 Morning Herald. Finds Junior x xx\\nthose who wanted two-way. No- .\\' material change this week. Quotations are as follows, Miami, has eaten the funnies and torn up', metadata={'source': 'dataset\\\\miamilife_pdf\\\\FI21052703_00048.pdf', 'page': 3}),\n",
       "  Document(page_content='vention went away with our liquor. But, thank\\ngoodness, we had enough of all our assets to go\\naround and everybody was satisfied, and all the\\ndelegates to both conventions left with good tastes\\nin their mouths-except, possibly, the dry squads\\nwho had to sample Hialeah Bacardi and Little River\\nScotch.\\nNow all we have to do is to think over the com-\\ning election (which means that, following our usual\\ncustom, we voters will simply take a nap) and wait\\nfor the Elks. At the time of going to press, it is not\\nknown whether the Prohibition Agents will stage\\nanother convention. At any rate, they haven\\'t been\\nasked and they probably won\\'t come.\\nNo Miamian made a dime out of the convention.\\nWe mean, of course, in cash profits. There are go-\\ning to be a lot of long faces when the business folk\\ntake inventory and look over the auditor\\'s state-\\nment. The hotels never gave lower rates-and,\\nmind you, they had held over their expensive crews\\nat a loss simply to entertain the Shriners. Restau-\\nrants had the lowest prices in history. ConcessionFate and Quigg\\n[TALK about fate and coincidence! Look at the case of\\nChief of Police Leslie Quigg. He suffered the loss of his\\nfather a few years ago. Then a brother-in-law, Raymond Lee,\\nwas shot to death. Then the boom collapsed and he lost al-\\nmost all his money. Then he was indicted for first degree\\nmurder for the death of a negro and shut up in the stockade\\n[ without bail. While awaiting trial, his own brother, Ralph\\nQuigg, died in Louisville, Kentucky. Shortly before the jury\\nbrought in their verdict he was reindicted for assault and\\nbattery. He had a triumphal acquittal last Saturday after-\\nnoon only to be stunned by the murder of another brother-in-\\nlaw, Philip Lee, Hallandale Chief of Police, on Sunday. Curi-\\nously enough it was a negro who killed his brother-in-law.\\n\"What a tangled web the fateful sisters spin!\"\\nmen are singing the blues, bootleggers lost not only\\ntheir boats and big stocks of liquor but their get-', metadata={'source': 'dataset\\\\miamilife_pdf\\\\FI21052703_00018.pdf', 'page': 0}),\n",
       "  Document(page_content='And with the state legislature\\'s assistance.Look\\nAND FOLKS, without reasonnever looked more beautifulTROSPECT , almost every native of Miami, Miami Beach, orIN RELCoralwhatever -at a time when Miami\\n-are leaving. The truly nice peo- Gables, would prefer the days of illegalized gambling, il-\\n,illegalized bootlegging, and perhaps distressed ple Miami depends upon for its trade \\n- legalized gambling always has depended upon \\n-\\nfolks spending money among themselves, to the present state-con-\\ntrolled (by our present state officials particularly) gambling system.\\nWhat about gambling during the time the five presidents of\\nMiami\\'s leading banks were city commissioners -and whose direc-\\ntion of real estate caused billions of dollars\\' loss to people from Pacific\\nto Atlantic coasts? That form of gambling was, and still is, legalized,\\nto the hardship of people who try to pay bills of this and nearby towns.\\nWhat about the thirty odd millions the bankers slipped over on us,for glory, have left. And, leaving, they\\'ve left only the parasites.\\nm HE MEN who haveFlorida in historyaengineered this worse catastrophe on South\\nre just so bad, so terribly bad, t h a t they\\'ll are\\nprobably be elected! And so long as four dog tracks, and two horse\\ntracks are owned by northerners who probably haven\\'t yet filed their\\ncomplete income tax returns! -the people buying, leasing, or trading\\nin realty down these ways should consult an alienist first.\\nTar And Feather The Vultures! THEY TELL ME| | SCHEDULE FOR THE WEEK THINGS\\nI\\'d Like to KnowTHEY TELL ME\\nSam McCreary and Frank Mitchell will stage abasket party in the lobby of the Nautilus hotel for Paul\\nJeans, editor of The Tribune.... \"Dutch\" Kirkland and\\nG. A. Denny will go on a fishing trip.... Fred Hartnett\\nwill fly to Washington to congratulate Rep. Mark Wilcox\\nfor appointing a new Miami postmaster. ...Former\\nJudge E. C. Collins will spend the summer with William\\nDavis in Alabama.... Fred Pine and Vernon Hawthorne', metadata={'source': 'dataset\\\\miamilife_pdf\\\\FI21052702_00029.pdf', 'page': 0}),\n",
       "  Document(page_content='nig affrays,  drunken  driving  contiue at an increasing  \\npace, especially  over the week-end,  added impetus  will be \\ngiven  to the campaign  for closing  all bars in Dade county  \\non Sundays,  and requiring  earlier  closing  on other nights.\\nProhibitionists  could receive  a great boost for their  \\ncause in witnessing  thi \\ndrink.\\ncity.\\nRe sure to patronize  MIAMI  \\nLIFE  advertisers.My Facial  \\n( harm#  \\nSee tn th< \\nGlass,  \\nTonite On \\nStage\\nI Show  Mr \\\\ v CJasH\\n■\\n4\\n3 /5 ói Ha-Ha Clwh\\nBABE BAKER  \\nI — PRESENTS  —\\nj JACKIE  MAYE  \\nÍ TOMMY  WILLIAMS\\nWorlds Most Foremost  Female  \\nImpersonators  \\nShows  at 10:30  - 12:30 - 3:00  \\ni Res. Hollywood  9138JTJRES.  TRUMAN ’S elevation  of \\n1 “S. O. B.” to White House  \\nparlance  has given nearly  every  \\ncolumnist  something  meaty  \\nwrite about, but no one did\\nAll Malo  \\nREVIEW  \\nAmerica ’s Foremost  \\nImpersonators  \\nCAST  OF 30 \\nDanny  & Doc ’s\\nCALL\\nBISCAYNE\\nEXTERMINATTNI\\nSERVICE\\nINC.\\nPhone 4-6401  \\n3003-23  Coral  Way  \\nDon ’t Tolerate\\nExterminate\\n-WED-\\nHEALTH —HOTEL  \\nfor\\nBEST,  CONVALISCENO  \\n«nd CHRONIC  CA8KS\\nFive Aereo Tronic»]  Grounds!  Comfortable  \\nRooms  1 Delicious  Meals ; \\nSports, Rec-eations ; Com\\xad\\nplete diagnostic  Facilities  I \\nResident  Physician : Con-  \\nsuiting Staff ; Graduate  \\nFI n rse.fi ’ dietitian;  Modena  \\nMedications ; Baths, Maa-  \\ngage, Irrigations,  Diather \\xad\\nmy, Sun-baths,  etc. for \\nResident  or Out-patieDts.\\nREASONABLE  RATKSCLUB\\nJEWEL  BOX\\nMiami End of\\nVenetian  Causeway  \\n512 N. E. 15th St.\\nMIAMI\\nRes. Boh 9 3100\\nWWER\\nPIANOS\\nMARKLEY ’S\\nWe Sell. Rent and T _ .\\n24 S. W\\nPhone\\n.. • _Lir  r i in n it n n n*» ^n*\"****  imic~  iMIAMl TRANSIT  COMP1II\\nFor Reservations  — Phone  3-1872\\nOpen Daily  Air Condition^\\nÍ For Break  fast, Lunch & Dimer Forking  FafiF\\'dCabbages and Kings', metadata={'source': 'dataset\\\\miamilife_pdf\\\\FI21052701_00015_19490409.pdf', 'page': 1}),\n",
       "  Document(page_content='they called and left it either  closed  or open —just \\nas they found liquor  there  or failed  to find it. Two \\nplaces were permanently  closed and the others  \\nwarned that they must refrain from breaking  \\nthe eighteenth  amendment  for the summer  \\nmonths. There was also an intimation  that what  \\nwas to be the law in the summer  would  not be the \\nlaw in the winter. Miami  Beach  is to be as dry \\nas the Sahara  Desert  pro tern. “Oh, well, ” the \\nproprietors  of the joints sang in unison,  “Busi \\xad\\nness was rotten,  anyway. ”\\nALTH0UGH  EV SEWELL  wasn ’t as snappy a cam-  \\n4 paigner  as some of the other candidates,  he wasn ’t so \\nslow. Did you notice how he put on a bargain  sale on \\nnien’s goods just before  election?ballroom. It was a political  \\nmeeting,  and the large hall was \\ndonated  for the occasion  by the \\n“Time for a Change ” League.\\nFourteen  candidates  who as \\npired to the office of city com\\xad\\nmissioner  were invited. They  \\ncame-  In the group  was one lady.\\nEach candidate  was privileged  \\nto speak 15 minutes- The order  \\nin which they spoke was deter \\xad\\nmined by drawing  names from  \\na hat.\\nGenerally  each candidate  left \\nthe platform  after making his \\nspeech. Only two remained.\\nThe thirteenth  speaker  was \\nannounced.  He made a clear,  \\nreasonable  and concise speech  \\ndealing with concrete  matters.  \\nWhen he was through  he sat \\ndown. For three hours he had \\nsat on the platform,  but he re\\xad\\nmained and awaited the last \\nspeaker  of the evening —the lady \\ncandidate.\\nAnd of all the other candidates  \\nhe was the only one who re\\xad\\nmained  until the lady had finish \\xad\\need her talk.\\nHis name was E. G. Sewell.  \\nAnd of all the candidates  re\\xad\\nceiving  votes, his name led all \\nthe rest.\\nMIAMI  LIFE IS READ\\nWhether  it is a sign of lessen \\xad\\ned traffic or not is immaterial,  \\nbut I came over to Miami  \\nBeach the other day in a jitney  \\nand the driver had a copy of \\nMiami Life stuck in the wheel  \\nand he read all the way over.', metadata={'source': 'dataset\\\\miamilife_pdf\\\\FI21052700_00017_19270507.pdf', 'page': 0}),\n",
       "  Document(page_content='sonal knowledge, Miami has voted almost solidly wet. In \\'22 I\\nwe routed Chicago\\'s famous \"flying squadron\" of prohibition\\nagents. After the murder of \"Red\" Shannon by coast-guards-\\nmen in \\'26, the rum-chasing base had to be transferred to\\nLauderdale. Our in-illustrous congressional representative\\nMark Wilcox, defeated our brilliant Ruth Bryan Owen simply\\nby declaring he was \"wet\": likewise every candidate who de-\\nclared he was liberal.-almost 8, arrived un-\\n,-ad, after seeing a MiamiI I !\\nTHAT Glayds\\' paramourt\\',\"\\nof last something not tolerated even in the palmiest days of the oldIan~\\'3 /ou departed for mediately\\nfeet saloon! o visit relatives edaleIFort\\nfor a\\nonlyyear isn\\'t getting under her.Reports are that not e.\\nnow, due to him but the fact that!\\nshe is too busy\\n! ! !Judge Ritter be Federalaput on the pan again (he\\'s a Repub-\\nlican appointment, you remember,\\nand a friend of Frank B. Shutts) but\\nhis referee in bankruptcy, Mr. Earl\\nCurry, may find himself in hot\\nwater. ... Bob Hill, former tax as-\\nsessor, is now with Ross Young,\\nselling Trommer\\'s beer over theBut Mayor Ev Sewell apparently has the other four mem-\\nbers of the city commission bull-dozed. If the mayor looked\\nTHAT Clyde attended a shindig like a bull, it would be plausible, but he doesn\\'t. Someone,\\nrather angry at this paper for some mild\\' rebuke) recently, de-\\nclared rather indignantly that Ev Sewell had a hair-trigger\\nbrain. We conceded the hair part, but what\\'s under the hair\\nis something that Miamians are getting more puzzled over\\nevery year they give him more dictatorial powers.for teachers at Hennie\\'s house and\\nspent the evening carousing about:-Biscayne Ken- Florida district.\\nCoral Gables due to illness\\nTHAT Ed is getting readynell Club, under Joe Adams\\' man-\\nagement, will open December 1. ...\\nAuby Keoskie, one of Miami Beach\\'s\\nbest-known wagerers, is back in\\nin town and says he hasn\\'t weaken-\\ned yet... \\n.The Miami Beach Tribune will\\nreopen with Mae Annenberg at the', metadata={'source': 'dataset\\\\miamilife_pdf\\\\FI21052702_00008.pdf', 'page': 0}),\n",
       "  Document(page_content='cange of Admre. or rntribttons mrst be received by Thursday it itened for th ts wek fue of liquor from a cache to a warehouse- and he had gone a half-\\nhrsed 5 aror eus sste Opft t. 5Myatpttertiaathtya fMypartali h frhbth teacn- ilehastthewadeous whnotetiniggntrootlgge leihi7Entered sa daeemend r,lass matter 25 aAprh past1 1925tMatmthensp,osteroilicei atpMiami coFlg underdenthe mdldates hinwatheuscommg tPresidentiabotlemglelepast i eW wareelouse w enhvetie.Thn pgnentcatedbiherefoarelocaevaltTf Mare ao have it. The present prohiition force oal-- FTO AETelteton, lemds me of the stoly to their jobs, and we know the force of men under Chief Kline\\nAderilng tortret.. are sollinted td aeted by the business otice-o by any reDreentantis of of a play given on a London of the customs has the reputation of being on the seuare but\\n\"tnaef sireet t Editorl appe-al. The Editors reee the right to reject any enteast stage somehow there is a nigger in the woodpile, and the informers\\nasieptd by the .n0es office or Its adeertisin staff-to cancel same at any tIne after acceptane-and The old King was dying and do not work for nothing Liquor arriving i Miami is fairly\\nSrefse publication of any anrelible or undesible. looked at hi0  two fine sons with h i d fh ie-y\\nlull rtlel t a leI mft soue are Copyright by Miami Life to 1928.) affe an skedothoe on decent drinking stuff, though several have complained of heebie-\\nPeroreat m 0 Ie ottained ftee the Pubtishert Co reeproetaon of material.) jeebies after two or three days\\' indulgence. Local purveyors are\\nn my crown?\" stocking up with better goods in order not to lose patrons, and\\nOne of the audience, having are leary of old wholesalers who use the Hialeah roads. Local\\ntaken just enough to think that quotatons may show advancement by the first of the month, but\\nthe remark woo addressed to him, present prices are as follows, retail, by the bottle. Case prices', metadata={'source': 'dataset\\\\miamilife_pdf\\\\FI21052703_00042.pdf', 'page': 1}),\n",
       "  Document(page_content='stroyed, while beverage  men  \\nfrom District  Eight, with head-\\nquarters  in Miami, discovered  \\nfour stills.\\nBeverage  men arrested  262 per\\xad\\nsons for violations  of state bev\\xad\\nerage  statutes,  went to court  with  \\n109 cases and got convictions  in \\n96 of these.\\nAmong  items confiscated  were  i \\n17 automobiles,  a boat, a wagon  I \\nand one mule.\\nTeen-agers  represent  real buy \\xad\\ning power  today,  according  to a \\n•ecent survey  conducted  by Sales  \\nMaragement  Magazine.  Boys and \\ngirls between  the ages of 13 and \\n19 have an average  allowance  or \\npersonal  earn ngs of $12.71 per \\nweek. Allowances  and earnings  \\nof teen-agers  run from $4.03 to \\nas high as $25.56  per week.Display  Equipment\\nJACK  DeWEESE\\nDisplay  Equipment  and Materials\\nMENS  — WOMENS  \\nCHILDREN  \\nMANNEQUINS  \\nMILLINERY  HEADS  \\nWOOD  and CHROME  \\nDISPLAY  FIXTURES  \\nLUCITE  FIXTURES  \\nRACKS-FORMS-MIRRORS  \\nCHROME  FURNITURE\\n205 S. MIAMI  AVENUE  \\nPHONE  9-1357\\nBUSTER  SPAULDING ’S\\nWindow  Display  Service\\n“DECORATIVE  MATERIALS ”\\nVISIT OUR SHOW  ROOM  \\n324 CORAL  WAY,  Coral Gables  \\nPHONE  4-3369\\nBuster  Spaulding Joe A. Groo\\nDOORS\\nCRAWFORD  DOOR  SALES\\nRepresentative  for\\nCrawford Wood - and Calder\\nAluminum  Overhead-type  Garage  \\nDoors\\n86 N.Glass Shower  Doors  \\nE. 39th STREET\\nPhone 78-4341\\nDRAPERIES\\nSHOP at\\nand SA^\\nAt the Circle\\nBiscay  ne Boulevard\\nDRUG  STORES\\nN.ANDY ’S DRUGS\\nYour Doctor ’s Prescriptiou  \\nReceives  Prompt  Attention  \\nQuick, Courteous  Service  \\nComplete  Fountain  Servie®\\nOUR SPECIALTY\\nW. 7th Ave. at 31st Terrac»  \\nPhone 2-9820\\nBLACKSTONE  DRUGS,  Inc.  \\nMAX  KANTER,  Reg. Pharmacist  \\n850 Washington  Ave.\\nPhones  5-4925  and 5-2275\\nPRESCRIPTIONS  CAREFULLY  \\nCOMPOUNDED  \\nComplete  Line of Cosmetics  \\nFADER ’S DRUG,  INC.\\nPrescription  Pharmacist  \\n2201 Coral Way — Ph. 48-1807  \\nCORAL  WAY OLDEST  STORE  \\nKnown  for Our Famous  Sodas\\nBILLY  FOSSETT  \\nPrescription  Pharmacy  \\nLargest  Prescription  Phaimao  \\nIn the South  \\nWe Will Call For and Deliver', metadata={'source': 'dataset\\\\miamilife_pdf\\\\FI21052701_00030_19490723.pdf', 'page': 5}),\n",
       "  Document(page_content='ciation recently  adopted  resolutions  against  the exhibition  and \\nsale of beer and wines by the local grocery  stores, virtually  urging  I \\na boycott  against  those places which refused  to co-operate  and the \\npatronage  of the firms which complied.\\nTo this end the ministers,  the men and women  have been con\\xad\\ntacting  owners  and managements,  especially  of the big chain em\\xad\\nporiums,  seeking  their aid. It was argued that this general  dis\\xad\\nplay of liquors in grocery  stores, making them easily accessible  \\nto all, was contrary  to good public policy in the promotion  of \\ntemperance.\\nThe same proposal  was submitted  to the Greater  Miami Minis \\xad\\nterial Council,  and no action was taken, as it was believed  bygood does it do us if two-thirds  of our people  do not \\nand cannot  share in the privileges  and comforts  and \\nsecurity  that such power  enables  us to provide?\\nIt does us no good.\\nIn fact, our system  of life, . far from being the best,  \\nmay, in many respects  be considered  among  the world ’s \\nworst.\\nFor the reason.that  wealth  as such is constantly  chan \\xad\\nneled toward  powerful  combines  which,  through  insurance  \\ncompanies,  huge food chains, clothing manufacturers,  \\nroyalist economic  empires  held together  by mammoth  \\nfinancial agreements,  legalistically  operating  through  \\nholding  companies,  auxiliary  and subsidiary  companies,  \\nclutches  hard at the throat  of the American  mass.\\nIs proof needed  of this?\\nThen, now that Christ ’s season  is at hand, look \\nabout  you at the bell-ringing  beggars  in behalf  of the \\npoor and the economically  adrift. Salvation  Army  \\nunits on virtually  every street corner  in America.\\nDoor bells being rung and phone calls being made in \\nevery hamlet,  town and metropolitan  city by the Com \\xad\\nmunity  Chest.\\nCancer  Institute  staffs with their hands out; tuber \\xad\\nculosis  and heart associations  putting  the bite on the in\\xad\\ndividual  purse.', metadata={'source': 'dataset\\\\miamilife_pdf\\\\FI21052701_00050_19491210.pdf', 'page': 3}),\n",
       "  Document(page_content='Page Six MIAMI  LIFE Saturday,  December  31, 1927.\\nNOTICE\\nOWING  to the uncompleteness  \\nof my present list, and as \\nseveral  of the boys have not an\\xad\\nswered my request,  this appeal  \\nis made to all legitimate  dealers  \\nin spiritous  liquors  and wines,  to \\nsend me in their correct street  \\naddress,  telephone  number and \\nprice, both retail and wholesale.\\nThis request  is urgent,  as thou \\xad\\nsands of Elks, Shriners,  news \\xad\\npaper  editors,  and possibly  Demo \\xad\\ncratic conventioneers  might get \\nlost seeking  that which  they seek.\\nLocal distillers,  and Patzen-  \\nhofer brewers  need not fill out \\nthe information  blank, as the \\nMountain  Dew Manufacturers ’ \\nassociation  of North Georgia  \\nhave agreed  to take care of those  \\nwho prefer “America First ” \\ngoods.the weeks  Happenings\\nWE GET GOOD FOOD\\nMI AMI is no longer  the dump \\xad\\ning ground  of second —and \\nthird-rate  foodstuffs.  There  has \\nbeen a concentrated  drive  on food \\xad\\nstuffs during  the last year and \\nthe effects are showing now.  \\nThere has only been two com \\xad\\nplaints about food in the last \\nforty days. A few months  ago \\nthere were about forty every two \\ndays.\\nMiami uses about 43 carloads  \\nof produce  each day. This does  \\nnot include meats or canned  \\ngoods. Over four million  pounds  \\nof bananas  are consumed  in this \\ndistrict  each year. This is in ex\\xad\\ncess of fruits and vegetables  \\ngrown in the district.\\nDuring the year over threeMlAMI to go after Democratic  convention  ... it will be the \\nTtL cheapest  and most effective  advertising  possible  * * * Dog \\ntrack and rabbit  bait case due for decision  next week * * * Sailor  \\nwrins money  in poker game . . . his body is found in bay * * * \\nLighter  loaded with steel gets tired and sinks opposite  Pier 1\\n* * * Palm Fete on next week * * * Joe Courtney  released  on \\n$10,000  bond . . . government  charges  him with accepting  bribes\\n* * * New hotel at Country  Club Estates  * * * Baker ’s Haulover', metadata={'source': 'dataset\\\\miamilife_pdf\\\\FI21052700_00051_19271231.pdf', 'page': 5}),\n",
       "  Document(page_content='Thursday  evening  when a widely  publicized  meeting  was \\nheld by the Greater  Miami Council  of Churches  and the \\nLaymen ’s Committee  of 1,000. The Newsletter  notices  \\nhad gone out to hundreds.  Announcements  had been made  \\nto the church people and through  the press. Daniel P. \\nSullivan,  director  of the Dade County  Crime Commission,  \\nSpoke on the local situation.\\nHere was something  that concerned  the vital inter \\xad\\nests of every resident.  Certainly  all the thousands  of \\nchurch  members  ought to be aroused;  surely the Com\\xad\\nmittee  of 1,000 should  have been on hand.\\nThe meeting  took place at the Shenandoah  Baptist  \\nchurch.  Approximately  100 persons  were present,  includ \\xad\\ning the several  ministers,  the directors  and participants.  \\nThat was all.\\nNearby  on Coral Way the street was congested  with \\ntraffic,  as were all other main streets.  Theaters  and racfc \\ntracks and night clubs and gambling  joints were doing  \\ngood business.  But barely one hundred  persons in all \\nMiami cared about gambling,  fraud, murder,  the break \\xad\\ndown in law enforcement,  the- mobs taking  over.\\nIt is no wonder  officialdom  is more impressed  by \\nthe effectiveness  of gangster  unity and organization,  little  \\ninfluenced  by the churches  and voters —only 12 per cent \\nvoted in the recent legislative  election.I\\nin crime prevention,  in the suppression  of gambling,\\nCHILD FOUND  FROG IN\\nGLASS OF GOAT MILK\\nA FROG  in the throat is not unusual  but a frog in the \\ngoat ’s milk got her goat.\\nThat is the complaint  of Mrs. Lucile  Larson,  Chicago,  \\nstaying  at 48 S. E. Seventh  street. She came here with \\nher three-year-old  son, Alan, who has a severe bronchial  \\ncough  and has been in a hospital  six times,  three ci them  \\nwith pneumonia.  She brought  the child to Miami  in hopes  \\nthat the climate  would benefit  his health.\\nHe is allergic  to cow ’s milk and upon arrival  here she \\ncontacted  the dairies  in the effort to obtain goat s milk.  ¡', metadata={'source': 'dataset\\\\miamilife_pdf\\\\FI21052701_00012_19490319.pdf', 'page': 3}),\n",
       "  Document(page_content='police own schools on suggestion of H. H. Arnold, director of\\npublic safety * * * Florida marriages decreased 25:4 per cent\\n1 during 1927 ...it\\'s the climate * * * Milk to advance two\\ncents per quart * * * Oranges and grapefruit still rivalling eggs\\nin price ***MORE NEXT WEEK.\\nin on something more interest- maae of the Cosrona aprt\\ning, and thus Miami loses a lot me\\nof real advertising. i held to the grand jury on a\\nPossibly it is necessary totenant of his, Dixie Joe Keeler,gi.e this advertising on the air\\nto mace the business of broad-\\ncasting pay. If so, the city,\\nchamber of commerce, or soni\\nsuch civic body should gather a\\nfund to make it posile to\\nbroadcast without advertising.\\nBroadcast messages are picked\\nup by so many people in all\\nwalks of life that good must\\ncome from well organized and\\nwell conducted programs placed\\non the air. As WQAM is likely\\nto be our only station in the fu-\\nture, after the rearrangement to\\nbe made shortly, we should see\\nthat nothing unsuitable is al-\\nlowed to be broadcast from this\\ncity.\\nThe radio can help us a lot.\\nDon\\'t let it be used to sell beans\\nand banjos.\\nNEW BEACH STORE\\nAlthough the Flagler Radio\\nCo. has had a store on Fifth\\ntreet, in the Collins arcade, al\\nsummer, the new store in the\\nsame building is so much better\\nthat I must say a few words\\nabout it.\\nThis company is agent for sev-\\neral sets and is one of the few\\nfirms in the south that will\\nbuild you a set to any ep\"ial\\norder. The firm worked on the\\nset that did the broadcasting\\nfrom an airplane during the\\nsummer and is meking low wave\\nlength sets of special design. Be-\\nsides that they are going to\\nbuild a special set for Miami\\nBeach, I am told.\\nA perfectly eauippei reec r\\nshop will be operated in conne -\\ntion with the Beach store. This\\nwill be of great value to Miami\\nBeach this winter. The fact\\nthat you can be sure of practical\\nand experienced operators work-\\ning on your valuable set should\\nmake this a busy place as the\\nwinter season gets under way.\\nSMOKING UP', metadata={'source': 'dataset\\\\miamilife_pdf\\\\FI21052703_00040.pdf', 'page': 3})]}"
      ]
     },
     "execution_count": 19,
     "metadata": {},
     "output_type": "execute_result"
    }
   ],
   "source": [
    "result"
   ]
  },
  {
   "cell_type": "code",
   "execution_count": 32,
   "id": "e7431bff",
   "metadata": {},
   "outputs": [
    {
     "data": {
      "text/plain": [
       "[Document(page_content='General  Admission  50c Cents\\nMusic  by Frank  Novak*s  Chicago-Miami\\nOrchestra\\nLADIES  FREE\\nMONDAY,  WEDNESDAY  and FRIDAY  NIGHTS\\nHow to get there —From Miami  follow  the Dixie to 115th St. and \\nturn left at big sign. Busses  leave Central  school,  N. E. Third  \\nstreet,  direct  to track.\\nFrom Miami  Beach:\\nDe LUXE  BUS SERVICE  direct  to the track. Busses  leave cor\\xad\\nner of Fifth street and Washington  avenue  at 7:10 p. m.; Wash \\xad\\nington  avenue  and Espanola  way at 7:20.\\nFREE  PARKINGPhone  Miami  Beach  2119 for Reservations\\nMIAMI  BEACH  GARDEN  THEATRE\\nAlton Road at 41st Street  \\nNear Nautilus  Hotel\\nDrive  from  Miami  over either  causeway,  turn left at Alton  Rd.\\n50 cents to $1.65  Seats on sale Phone M. B. 2119\\nCurtain  at 8:30 P. M.\\n500 SEATS  AT FIFTY  CENTS\\nWILD TO MODERN\\nwild nature  to a modern  city \\ndependable  Electric  service.The span from\\nIs bridged  by\\nPeople,  business,  trade and industry  naturally  gravi \\xad\\ntate to the Modern  City and community  having', metadata={'source': './dataset/FI21052700_00002_19270122.pdf', 'page': 0}),\n",
       " Document(page_content='present  good deportment  is main \\xad\\ntained by Hialeah  visitors.\\nmen like Jimmystuff,\\ncallskATTENTION\\nArchitects,  Artists,  Engineers  \\nWe have any article you need, in\\xad\\ncluding  a Modern  Blue Print Plant-  \\nPhotostat Dept... Picture Framing  \\nT Square & Triangle  Co. \\n141 N. E. 2nd Ave.\\nPhone 8751\\nBroadway  Comes  to Miami  Beach  \\nTonight\\nat the\\nMiami  Beach  Garden  Theater\\nwith And\\nBright and Glenn Curtis at \\nwork developing  subdivisions,  \\nmanufacturing  sections and  \\nbeauty spots, it won ’t be many  \\nseasons  before the game little  \\ncitv reaches  its place in the sun. \\n! ! !\\nA. K. Ewing  is the director  of \\npublic safety. Under him come  \\nLieut. Wm. A. Ennis, heading  \\nthe police department;  Ser\\xad\\ngeants  Woods,  Yoakum  and Mc\\xad\\nCamey,  12 patrolmen  and six \\nmotorcycle  men. all in uniforms  \\nof grey.developing  subdivisions,\\nPidureFiatmnd\\n( RICH  ARD  B.HOIT ) \\nNOI  HALCYON  ARCAOE-ROOM40  v \\n477 S.W.8  ST \\nQUICK  SERVICE : PARKING  SPACEWhen\\nNew York Stars Present', metadata={'source': './dataset/FI21052700_00002_19270122.pdf', 'page': 0}),\n",
       " Document(page_content='Saturday,  January  22, 1927Page Seven\\n| Round  the Town  | \\nwith Rod\\nCIVIC  THEATER  PLAYS\\nThe first three-act  play to be \\npresented  by the Miami Civic  \\ntheater  will be J. M. Barrie ’s \\n“Dear Brutus, ” which will be \\ngiven at the University  of Miami  \\non the evenings  of January  27 \\nand 28. Catherine  Hoffman,  high  \\nschool girl, protege  of Beatrice  \\nJoy, will have the part of Mar \\xad\\ngaret. The Universal  Film peo\\xad\\nple would like to have Margaret  \\nfor pictures,  but her mother  \\nsays “Latin first. ”\\nCast of the play: Lady Caro \\xad\\nline Laney,  Mrs. E. T. Dunham;  \\nMrs. Coade, Mrs. E. V. Ingra  \\nham; Mabel Purdieu,  Mrs. Wil\\xad\\nlard C. Brown; Alice Howard,  \\nMiss Virginia  Howard;  Margaret,  \\nCatherine  Hoffman;  Purdie, V. \\nEdwards;  Matey, John Potter;  \\nCoade, L. O. Dailey; Daerth,  \\nCoulter  De Klyn; Lob, Lafayette  \\nBetts. Howard Southgate  will \\ndirect the plays. Denman  Fink  \\nand A. W. Jones are making  the \\nsets.\\nARTISTS  TO FROLIC\\nTwo thousand  invitations  are', metadata={'source': './dataset/FI21052700_00002_19270122.pdf', 'page': 5}),\n",
       " Document(page_content='exclusive  hotel located near the \\nGulf Refining  company  at Miami  \\nBeach,  and would  soon open up the \\nroof garden  for the season.\\n“I shall soon open up the roof \\ngarden, ” said Greeby,  “and it will \\nbe very exclusive.  There will be \\nno cover charge. ”\\n“There ’s no cover on it anyway, ” \\nlaughed  Geraldine  as she did a \\nBrody  out of the window.\\n“Everyone  must have an invita \\xad\\ntion, ” continued  Greeby,  ignoring  \\ninterruption,  “and I hereby  invite  \\neverybody  to attend. Those  who do \\nnot desire  to dance may sit on the \\nsidelines  and drop concrete  blocks  \\nshould  them government  or county  \\nmen come around  again.  The motto  \\nwill be a square deal to all, and \\neveryone  with bulging  hips must  \\nsubmit  to a search. Whatever  is \\ncollected  will be poured into one \\ncommon  pool, and for 50 cents each  \\nguest  may have a glass. ”\\n“I bet you can sell plenty of \\ncaskets  over there, ” floated  in the \\nvoice of Little  Geraldine,  and Ham \\xad', metadata={'source': './dataset/FI21052700_00002_19270122.pdf', 'page': 1})]"
      ]
     },
     "execution_count": 32,
     "metadata": {},
     "output_type": "execute_result"
    }
   ],
   "source": [
    "ret.get_relevant_documents('what does miami beach garden theatre perform')"
   ]
  },
  {
   "cell_type": "code",
   "execution_count": 11,
   "id": "498fec7d",
   "metadata": {},
   "outputs": [
    {
     "data": {
      "text/plain": [
       "[(Document(page_content='OLYMPIA  THEATRE —Magnificent  in every detail. Fine sym\\xad\\nphony orchestra  and Sanley  Malotte  at the big wind organ. One of \\nour clever  columnists  was sorta harsh  with this boy Malotte  last week  \\nand personally  we can’t grow hysterical  over him either but he stops  \\nthe show at every performance  and that, of course,  is really what  \\ncounts.to\\nCAS’A GRANDE —Up on the Dixie. Old timer Allison  aided and \\nabetted  by Derby Jimmie  Hodges  serving  a salad of jazz, fun \\nand dance.\\nMERRICK ’S COUNTRY  CLUB —A perfect  spot in the heart of \\nthe Gables. The Jovial  Jan Garber  and his crew of troubadours  fur\\xad\\nnish sweet music  amid gorgeous  tropical  surroundings.  Biltmore  serv \\xad\\nice and atmosphere.\\nHOTEL  ANTILLA —Where  society  gathers  for their bridge and \\ngossips  to the \"Harmony ” of Joe Astoria\\'s  minstrels.\\nRONEY  PLAZA  POOLS —Thanks,  Newt, you sure fixed the old \\nswimmin ’ hole up mighty  fine.\\nCAPITOL  THEATRE —Meyer  and Wolfson ’s cinema  palace.  Your', metadata={'source': './dataset/FI21052700_00002_19270122.pdf', 'page': 5}),\n",
       "  0.3767356),\n",
       " (Document(page_content='Saturday,  January  22, 1927Page Seven\\n| Round  the Town  | \\nwith Rod\\nCIVIC  THEATER  PLAYS\\nThe first three-act  play to be \\npresented  by the Miami Civic  \\ntheater  will be J. M. Barrie ’s \\n“Dear Brutus, ” which will be \\ngiven at the University  of Miami  \\non the evenings  of January  27 \\nand 28. Catherine  Hoffman,  high  \\nschool girl, protege  of Beatrice  \\nJoy, will have the part of Mar \\xad\\ngaret. The Universal  Film peo\\xad\\nple would like to have Margaret  \\nfor pictures,  but her mother  \\nsays “Latin first. ”\\nCast of the play: Lady Caro \\xad\\nline Laney,  Mrs. E. T. Dunham;  \\nMrs. Coade, Mrs. E. V. Ingra  \\nham; Mabel Purdieu,  Mrs. Wil\\xad\\nlard C. Brown; Alice Howard,  \\nMiss Virginia  Howard;  Margaret,  \\nCatherine  Hoffman;  Purdie, V. \\nEdwards;  Matey, John Potter;  \\nCoade, L. O. Dailey; Daerth,  \\nCoulter  De Klyn; Lob, Lafayette  \\nBetts. Howard Southgate  will \\ndirect the plays. Denman  Fink  \\nand A. W. Jones are making  the \\nsets.\\nARTISTS  TO FROLIC\\nTwo thousand  invitations  are', metadata={'source': './dataset/FI21052700_00002_19270122.pdf', 'page': 5}),\n",
       "  0.40200406),\n",
       " (Document(page_content='present  good deportment  is main \\xad\\ntained by Hialeah  visitors.\\nmen like Jimmystuff,\\ncallskATTENTION\\nArchitects,  Artists,  Engineers  \\nWe have any article you need, in\\xad\\ncluding  a Modern  Blue Print Plant-  \\nPhotostat Dept... Picture Framing  \\nT Square & Triangle  Co. \\n141 N. E. 2nd Ave.\\nPhone 8751\\nBroadway  Comes  to Miami  Beach  \\nTonight\\nat the\\nMiami  Beach  Garden  Theater\\nwith And\\nBright and Glenn Curtis at \\nwork developing  subdivisions,  \\nmanufacturing  sections and  \\nbeauty spots, it won ’t be many  \\nseasons  before the game little  \\ncitv reaches  its place in the sun. \\n! ! !\\nA. K. Ewing  is the director  of \\npublic safety. Under him come  \\nLieut. Wm. A. Ennis, heading  \\nthe police department;  Ser\\xad\\ngeants  Woods,  Yoakum  and Mc\\xad\\nCamey,  12 patrolmen  and six \\nmotorcycle  men. all in uniforms  \\nof grey.developing  subdivisions,\\nPidureFiatmnd\\n( RICH  ARD  B.HOIT ) \\nNOI  HALCYON  ARCAOE-ROOM40  v \\n477 S.W.8  ST \\nQUICK  SERVICE : PARKING  SPACEWhen\\nNew York Stars Present', metadata={'source': './dataset/FI21052700_00002_19270122.pdf', 'page': 0}),\n",
       "  0.44410393),\n",
       " (Document(page_content='and Margaret  Cook, clever  dance artists  and Jimmie  Peyton  and his \\nversatile  orchestra  are all pleasing.  If you can’t sell her at the Sixty,  \\nask for a transfer.\\nWEIMER  S TA VERN —Frankie  and Johnnie  and Jake, the plumb-  \\nei and all the boys with the round haircuts  frolicking  in a hot dog \\natmosphere.  Check  your guns and spurs  and take a chance.\\nT A VIDA,  IN HIALEAH —The Downs  sisters. Pretty  song birds  \\nwarbling  pretty  melodies  in Tony Lamantia\\'s  beautiful  Blue and \\nGold playhouse.\\nMOVIE  INN—The place which made Stan Comstock  forget he \\nhad a wife and where  Connie  Almy  found  a new meal ticket. Oh, love,  \\nwhere  is thy conscience?  Pete Crossland,  who writes  the \"Low Down ” says it’s worth a play.\\nMON  1 MARTE —A good show with Joe Hamm  doing everything  please  his patrons.\\nOLYMPIA  THEATRE —Magnificent  in every detail. Fine sym\\xad\\nphony orchestra  and Sanley  Malotte  at the big wind organ. One of', metadata={'source': './dataset/FI21052700_00002_19270122.pdf', 'page': 5}),\n",
       "  0.44453013),\n",
       " (Document(page_content='Coulter  De Klyn; Lob, Lafayette  \\nBetts. Howard Southgate  will \\ndirect the plays. Denman  Fink  \\nand A. W. Jones are making  the \\nsets.\\nARTISTS  TO FROLIC\\nTwo thousand  invitations  are \\nbeing prepared  for the Fifth An\\xad\\nnual Masque  Dinner Dance and \\nArtists ’ Frolic of the Tropical  \\nLeague  of Fine Arts to be held \\nat the Fleet  wood hotel February  \\n1, Tuesday,  at 8 p. m., Judge  \\nWilliam  E. Walsh, of Miami  \\nBeach,  announced  yesterday.  Pro\\xad\\nceeds of the ball will be used for \\nscholarships  at the University  of \\nMiami.\\nThis ball is usually  taken by \\nthe country  at large as typical  \\nof the frolics of South Florida  \\nin the winter,  and the program,  \\ndinner,  decoration,  stunts,  novel \\xad\\nties and costumes  will be devel \\xad\\noped by tradition,  according  to \\nthe committee.  Arrangements  \\nand table reservations  will be \\nmade through Edgar Louis  \\nKeuling,  vice president  and di\\xad\\nrector of activities,  at the Nau \\xad\\ntilus Flower  Shop.\\nAIN ’T IT STRANGE?', metadata={'source': './dataset/FI21052700_00002_19270122.pdf', 'page': 5}),\n",
       "  0.44699112)]"
      ]
     },
     "execution_count": 11,
     "metadata": {},
     "output_type": "execute_result"
    }
   ],
   "source": [
    "## search a general word\n",
    "pdf_vs.similarity_search_with_score('theatre',5)"
   ]
  },
  {
   "cell_type": "code",
   "execution_count": null,
   "id": "43e57423",
   "metadata": {},
   "outputs": [],
   "source": []
  }
 ],
 "metadata": {
  "kernelspec": {
   "display_name": "Python 3 (ipykernel)",
   "language": "python",
   "name": "python3"
  },
  "language_info": {
   "codemirror_mode": {
    "name": "ipython",
    "version": 3
   },
   "file_extension": ".py",
   "mimetype": "text/x-python",
   "name": "python",
   "nbconvert_exporter": "python",
   "pygments_lexer": "ipython3",
   "version": "3.11.3"
  }
 },
 "nbformat": 4,
 "nbformat_minor": 5
}
